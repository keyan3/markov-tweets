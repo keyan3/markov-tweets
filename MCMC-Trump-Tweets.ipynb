{
 "cells": [
  {
   "cell_type": "markdown",
   "metadata": {
    "collapsed": true,
    "nbgrader": {
     "cell_type": "code",
     "checksum": "727d86148491e8268741fb9ad1182f32",
     "grade": false,
     "grade_id": "tweepy",
     "schema_version": 2,
     "solution": false
    }
   },
   "source": [
    "# EECS 126 MCMC Project - Generating Trump Tweets"
   ]
  },
  {
   "cell_type": "code",
   "execution_count": 2,
   "metadata": {
    "collapsed": true,
    "nbgrader": {
     "cell_type": "code",
     "checksum": "727d86148491e8268741fb9ad1182f32",
     "grade": false,
     "grade_id": "tweepy",
     "schema_version": 2,
     "solution": false
    }
   },
   "outputs": [],
   "source": [
    "import csv\n",
    "import numpy as np\n",
    "import pandas as pd\n",
    "import matplotlib.pyplot as plt\n",
    "import zipfile\n",
    "import tweepy\n",
    "\n",
    "# Ensure that we can see full tweets\n",
    "pd.set_option('max_colwidth', 280)"
   ]
  },
  {
   "cell_type": "markdown",
   "metadata": {},
   "source": [
    "# 1) Building Tweet Dataset"
   ]
  },
  {
   "cell_type": "markdown",
   "metadata": {},
   "source": [
    "### Testing API Access"
   ]
  },
  {
   "cell_type": "code",
   "execution_count": 4,
   "metadata": {
    "collapsed": true,
    "deletable": false,
    "nbgrader": {
     "cell_type": "code",
     "checksum": "c2eb5fb9a1af6832165a365b0aad21ab",
     "grade": false,
     "grade_id": "keys",
     "locked": true,
     "schema_version": 2,
     "solution": false
    }
   },
   "outputs": [],
   "source": [
    "# Loading previously generated API authentication keys\n",
    "import json\n",
    "key_file = 'keys.json'\n",
    "\n",
    "with open(key_file) as f:\n",
    "    keys = json.load(f)"
   ]
  },
  {
   "cell_type": "code",
   "execution_count": 5,
   "metadata": {
    "deletable": false,
    "nbgrader": {
     "cell_type": "code",
     "checksum": "66806331fe1cb852ab300e98459cb2d4",
     "grade": false,
     "grade_id": "twitter-auth",
     "locked": true,
     "schema_version": 2,
     "solution": false
    }
   },
   "outputs": [
    {
     "name": "stdout",
     "output_type": "stream",
     "text": [
      "Your username is: gorblamski\n"
     ]
    }
   ],
   "source": [
    "from tweepy import TweepError\n",
    "import logging\n",
    "\n",
    "try:\n",
    "    auth = tweepy.OAuthHandler(keys[\"consumer_key\"], keys[\"consumer_secret\"])\n",
    "    auth.set_access_token(keys[\"access_token\"], keys[\"access_token_secret\"])\n",
    "    api = tweepy.API(auth)\n",
    "    print(\"Your username is:\", api.auth.get_username())\n",
    "except TweepError as e:\n",
    "    logging.warning(\"Tweepy error\")\n",
    "    logging.warning(e)"
   ]
  },
  {
   "cell_type": "code",
   "execution_count": 6,
   "metadata": {
    "collapsed": true,
    "nbgrader": {
     "cell_type": "code",
     "checksum": "727d86148491e8268741fb9ad1182f32",
     "grade": false,
     "grade_id": "tweepy",
     "schema_version": 2,
     "solution": false
    }
   },
   "outputs": [],
   "source": [
    "from pathlib import Path\n",
    "\n",
    "ds_tweets_save_path = \"BerkeleyData_recent_tweets.json\"\n",
    "\n",
    "# Guarding against attempts to download the data multiple times:\n",
    "if not Path(ds_tweets_save_path).is_file():\n",
    "    example_tweets = [t._json for t in tweepy.Cursor(api.user_timeline, id=\"BerkeleyData\", \n",
    "                                             tweet_mode='extended').items()]\n",
    "    \n",
    "    # Saving the tweets to a json file on disk for future analysis\n",
    "    with open(ds_tweets_save_path, \"w\") as f:        \n",
    "        json.dump(example_tweets, f)\n",
    "\n",
    "# Re-loading the json file:\n",
    "with open(ds_tweets_save_path, \"r\") as f:\n",
    "    example_tweets = json.load(f)"
   ]
  },
  {
   "cell_type": "code",
   "execution_count": 7,
   "metadata": {
    "nbgrader": {
     "cell_type": "code",
     "checksum": "727d86148491e8268741fb9ad1182f32",
     "grade": false,
     "grade_id": "tweepy",
     "schema_version": 2,
     "solution": false
    },
    "scrolled": true
   },
   "outputs": [
    {
     "name": "stdout",
     "output_type": "stream",
     "text": [
      "{'contributors': None,\n",
      " 'coordinates': None,\n",
      " 'created_at': 'Wed Oct 17 14:12:03 +0000 2018',\n",
      " 'display_text_range': [0, 140],\n",
      " 'entities': {'hashtags': [],\n",
      "              'symbols': [],\n",
      "              'urls': [],\n",
      "              'user_mentions': [{'id': 263020833,\n",
      "                                 'id_str': '263020833',\n",
      "                                 'indices': [3, 19],\n",
      "                                 'name': 'Berkeley School of Information',\n",
      "                                 'screen_name': 'BerkeleyISchool'},\n",
      "                                {'id': 24414370,\n",
      "                                 'id_str': '24414370',\n",
      "                                 'indices': [26, 34],\n",
      "                                 'name': 'Anno Saxenian',\n",
      "                                 'screen_name': 'annosax'}]},\n",
      " 'favorite_count': 0,\n",
      " 'favorited': False,\n",
      " 'full_text': 'RT @BerkeleyISchool: Dean @annosax is one 3 women who have '\n",
      "              'authored key works to understand the current Entrepreneurial '\n",
      "              'Age. https://t.co/k…',\n",
      " 'geo': None,\n",
      " 'id': 1052562888731320322,\n",
      " 'id_str': '1052562888731320322',\n",
      " 'in_reply_to_screen_name': None,\n",
      " 'in_reply_to_status_id': None,\n",
      " 'in_reply_to_status_id_str': None,\n",
      " 'in_reply_to_user_id': None,\n",
      " 'in_reply_to_user_id_str': None,\n",
      " 'is_quote_status': False,\n",
      " 'lang': 'en',\n",
      " 'place': None,\n",
      " 'retweet_count': 4,\n",
      " 'retweeted': False,\n",
      " 'retweeted_status': {'contributors': None,\n",
      "                      'coordinates': None,\n",
      "                      'created_at': 'Wed Oct 17 00:10:48 +0000 2018',\n",
      "                      'display_text_range': [0, 198],\n",
      "                      'entities': {'hashtags': [{'indices': [154, 168],\n",
      "                                                 'text': 'SiliconValley'},\n",
      "                                                {'indices': [169, 186],\n",
      "                                                 'text': 'Entrepreneurship'}],\n",
      "                                   'media': [{'display_url': 'pic.twitter.com/XDv65ShEbG',\n",
      "                                              'expanded_url': 'https://twitter.com/BerkeleyISchool/status/1052351185112506368/photo/1',\n",
      "                                              'id': 1052351182730129408,\n",
      "                                              'id_str': '1052351182730129408',\n",
      "                                              'indices': [199, 222],\n",
      "                                              'media_url': 'http://pbs.twimg.com/media/Dpqz0zmXcAAL2gF.png',\n",
      "                                              'media_url_https': 'https://pbs.twimg.com/media/Dpqz0zmXcAAL2gF.png',\n",
      "                                              'sizes': {'large': {'h': 456,\n",
      "                                                                  'resize': 'fit',\n",
      "                                                                  'w': 960},\n",
      "                                                        'medium': {'h': 456,\n",
      "                                                                   'resize': 'fit',\n",
      "                                                                   'w': 960},\n",
      "                                                        'small': {'h': 323,\n",
      "                                                                  'resize': 'fit',\n",
      "                                                                  'w': 680},\n",
      "                                                        'thumb': {'h': 150,\n",
      "                                                                  'resize': 'crop',\n",
      "                                                                  'w': 150}},\n",
      "                                              'type': 'photo',\n",
      "                                              'url': 'https://t.co/XDv65ShEbG'}],\n",
      "                                   'symbols': [],\n",
      "                                   'urls': [{'display_url': 'buff.ly/2pYmNje',\n",
      "                                             'expanded_url': 'https://buff.ly/2pYmNje',\n",
      "                                             'indices': [104, 127],\n",
      "                                             'url': 'https://t.co/ke8memYKaQ'}],\n",
      "                                   'user_mentions': [{'id': 24414370,\n",
      "                                                      'id_str': '24414370',\n",
      "                                                      'indices': [5, 13],\n",
      "                                                      'name': 'Anno Saxenian',\n",
      "                                                      'screen_name': 'annosax'},\n",
      "                                                     {'id': 54711914,\n",
      "                                                      'id_str': '54711914',\n",
      "                                                      'indices': [131, 145],\n",
      "                                                      'name': 'Nicolas Colin '\n",
      "                                                              '🇪🇺',\n",
      "                                                      'screen_name': 'Nicolas_Colin'},\n",
      "                                                     {'id': 91478624,\n",
      "                                                      'id_str': '91478624',\n",
      "                                                      'indices': [146, 153],\n",
      "                                                      'name': 'Forbes',\n",
      "                                                      'screen_name': 'Forbes'},\n",
      "                                                     {'id': 176932593,\n",
      "                                                      'id_str': '176932593',\n",
      "                                                      'indices': [187, 198],\n",
      "                                                      'name': 'UC Berkeley',\n",
      "                                                      'screen_name': 'UCBerkeley'}]},\n",
      "                      'extended_entities': {'media': [{'display_url': 'pic.twitter.com/XDv65ShEbG',\n",
      "                                                       'expanded_url': 'https://twitter.com/BerkeleyISchool/status/1052351185112506368/photo/1',\n",
      "                                                       'id': 1052351182730129408,\n",
      "                                                       'id_str': '1052351182730129408',\n",
      "                                                       'indices': [199, 222],\n",
      "                                                       'media_url': 'http://pbs.twimg.com/media/Dpqz0zmXcAAL2gF.png',\n",
      "                                                       'media_url_https': 'https://pbs.twimg.com/media/Dpqz0zmXcAAL2gF.png',\n",
      "                                                       'sizes': {'large': {'h': 456,\n",
      "                                                                           'resize': 'fit',\n",
      "                                                                           'w': 960},\n",
      "                                                                 'medium': {'h': 456,\n",
      "                                                                            'resize': 'fit',\n",
      "                                                                            'w': 960},\n",
      "                                                                 'small': {'h': 323,\n",
      "                                                                           'resize': 'fit',\n",
      "                                                                           'w': 680},\n",
      "                                                                 'thumb': {'h': 150,\n",
      "                                                                           'resize': 'crop',\n",
      "                                                                           'w': 150}},\n",
      "                                                       'type': 'photo',\n",
      "                                                       'url': 'https://t.co/XDv65ShEbG'}]},\n",
      "                      'favorite_count': 9,\n",
      "                      'favorited': False,\n",
      "                      'full_text': 'Dean @annosax is one 3 women who have '\n",
      "                                   'authored key works to understand the '\n",
      "                                   'current Entrepreneurial Age. '\n",
      "                                   'https://t.co/ke8memYKaQ By @Nicolas_Colin '\n",
      "                                   '@Forbes #SiliconValley #Entrepreneurship '\n",
      "                                   '@UCBerkeley https://t.co/XDv65ShEbG',\n",
      "                      'geo': None,\n",
      "                      'id': 1052351185112506368,\n",
      "                      'id_str': '1052351185112506368',\n",
      "                      'in_reply_to_screen_name': None,\n",
      "                      'in_reply_to_status_id': None,\n",
      "                      'in_reply_to_status_id_str': None,\n",
      "                      'in_reply_to_user_id': None,\n",
      "                      'in_reply_to_user_id_str': None,\n",
      "                      'is_quote_status': False,\n",
      "                      'lang': 'en',\n",
      "                      'place': None,\n",
      "                      'possibly_sensitive': False,\n",
      "                      'retweet_count': 4,\n",
      "                      'retweeted': False,\n",
      "                      'source': '<a href=\"https://buffer.com\" '\n",
      "                                'rel=\"nofollow\">Buffer</a>',\n",
      "                      'truncated': False,\n",
      "                      'user': {'contributors_enabled': False,\n",
      "                               'created_at': 'Wed Mar 09 06:13:42 +0000 2011',\n",
      "                               'default_profile': False,\n",
      "                               'default_profile_image': False,\n",
      "                               'description': 'The UC Berkeley School of '\n",
      "                                              'Information is a '\n",
      "                                              'multi-disciplinary program '\n",
      "                                              'devoted to enhancing the '\n",
      "                                              'accessibility, usability, '\n",
      "                                              'credibility & security of '\n",
      "                                              'information.',\n",
      "                               'entities': {'description': {'urls': []},\n",
      "                                            'url': {'urls': [{'display_url': 'ischool.berkeley.edu',\n",
      "                                                              'expanded_url': 'http://ischool.berkeley.edu',\n",
      "                                                              'indices': [0,\n",
      "                                                                          23],\n",
      "                                                              'url': 'https://t.co/5eXJ0wN1Jd'}]}},\n",
      "                               'favourites_count': 3258,\n",
      "                               'follow_request_sent': False,\n",
      "                               'followers_count': 5001,\n",
      "                               'following': False,\n",
      "                               'friends_count': 654,\n",
      "                               'geo_enabled': True,\n",
      "                               'has_extended_profile': False,\n",
      "                               'id': 263020833,\n",
      "                               'id_str': '263020833',\n",
      "                               'is_translation_enabled': False,\n",
      "                               'is_translator': False,\n",
      "                               'lang': 'en',\n",
      "                               'listed_count': 218,\n",
      "                               'location': 'Berkeley, California, USA',\n",
      "                               'name': 'Berkeley School of Information',\n",
      "                               'notifications': False,\n",
      "                               'profile_background_color': '38628F',\n",
      "                               'profile_background_image_url': 'http://abs.twimg.com/images/themes/theme1/bg.png',\n",
      "                               'profile_background_image_url_https': 'https://abs.twimg.com/images/themes/theme1/bg.png',\n",
      "                               'profile_background_tile': False,\n",
      "                               'profile_banner_url': 'https://pbs.twimg.com/profile_banners/263020833/1520571883',\n",
      "                               'profile_image_url': 'http://pbs.twimg.com/profile_images/971975267764789254/eAmDOL2o_normal.jpg',\n",
      "                               'profile_image_url_https': 'https://pbs.twimg.com/profile_images/971975267764789254/eAmDOL2o_normal.jpg',\n",
      "                               'profile_link_color': '3B7EA1',\n",
      "                               'profile_sidebar_border_color': 'C0DEED',\n",
      "                               'profile_sidebar_fill_color': 'DDEEF6',\n",
      "                               'profile_text_color': '333333',\n",
      "                               'profile_use_background_image': True,\n",
      "                               'protected': False,\n",
      "                               'screen_name': 'BerkeleyISchool',\n",
      "                               'statuses_count': 3969,\n",
      "                               'time_zone': None,\n",
      "                               'translator_type': 'none',\n",
      "                               'url': 'https://t.co/5eXJ0wN1Jd',\n",
      "                               'utc_offset': None,\n",
      "                               'verified': False}},\n",
      " 'source': '<a href=\"http://twitter.com\" rel=\"nofollow\">Twitter Web Client</a>',\n",
      " 'truncated': False,\n",
      " 'user': {'contributors_enabled': False,\n",
      "          'created_at': 'Thu Feb 28 14:37:26 +0000 2013',\n",
      "          'default_profile': False,\n",
      "          'default_profile_image': False,\n",
      "          'description': 'An online Master of Information and Data Science '\n",
      "                         '(MIDS) degree from the UC Berkeley School of '\n",
      "                         'Information. Learn more at: http://t.co/zf6gfBWovQ',\n",
      "          'entities': {'description': {'urls': [{'display_url': 'bit.ly/tBerkeleyData',\n",
      "                                                 'expanded_url': 'http://bit.ly/tBerkeleyData',\n",
      "                                                 'indices': [122, 144],\n",
      "                                                 'url': 'http://t.co/zf6gfBWovQ'}]},\n",
      "                       'url': {'urls': [{'display_url': 'datascience.berkeley.edu',\n",
      "                                         'expanded_url': 'http://datascience.berkeley.edu',\n",
      "                                         'indices': [0, 22],\n",
      "                                         'url': 'http://t.co/S79Ul3oCaa'}]}},\n",
      "          'favourites_count': 172,\n",
      "          'follow_request_sent': False,\n",
      "          'followers_count': 11797,\n",
      "          'following': False,\n",
      "          'friends_count': 412,\n",
      "          'geo_enabled': False,\n",
      "          'has_extended_profile': False,\n",
      "          'id': 1227698863,\n",
      "          'id_str': '1227698863',\n",
      "          'is_translation_enabled': False,\n",
      "          'is_translator': False,\n",
      "          'lang': 'en',\n",
      "          'listed_count': 488,\n",
      "          'location': 'Berkeley, CA',\n",
      "          'name': 'datascience@berkeley',\n",
      "          'notifications': False,\n",
      "          'profile_background_color': 'CCCCCC',\n",
      "          'profile_background_image_url': 'http://abs.twimg.com/images/themes/theme1/bg.png',\n",
      "          'profile_background_image_url_https': 'https://abs.twimg.com/images/themes/theme1/bg.png',\n",
      "          'profile_background_tile': False,\n",
      "          'profile_banner_url': 'https://pbs.twimg.com/profile_banners/1227698863/1502212054',\n",
      "          'profile_image_url': 'http://pbs.twimg.com/profile_images/894968224973897728/lI8iiF3J_normal.jpg',\n",
      "          'profile_image_url_https': 'https://pbs.twimg.com/profile_images/894968224973897728/lI8iiF3J_normal.jpg',\n",
      "          'profile_link_color': '5173B6',\n",
      "          'profile_sidebar_border_color': 'FFFFFF',\n",
      "          'profile_sidebar_fill_color': 'DDEEF6',\n",
      "          'profile_text_color': '333333',\n",
      "          'profile_use_background_image': True,\n",
      "          'protected': False,\n",
      "          'screen_name': 'BerkeleyData',\n",
      "          'statuses_count': 2407,\n",
      "          'time_zone': None,\n",
      "          'translator_type': 'none',\n",
      "          'url': 'http://t.co/S79Ul3oCaa',\n",
      "          'utc_offset': None,\n",
      "          'verified': False}}\n"
     ]
    }
   ],
   "source": [
    "from pprint import pprint\n",
    "pprint(example_tweets[0])"
   ]
  },
  {
   "cell_type": "markdown",
   "metadata": {
    "collapsed": true,
    "deletable": false,
    "nbgrader": {
     "cell_type": "markdown",
     "checksum": "43ce65ddda5bb1543856611dd2c536f9",
     "grade": false,
     "grade_id": "q2a",
     "locked": true,
     "schema_version": 2,
     "solution": false
    }
   },
   "source": [
    "### Functions for obtaining tweets"
   ]
  },
  {
   "cell_type": "code",
   "execution_count": 8,
   "metadata": {
    "collapsed": true,
    "deletable": false,
    "nbgrader": {
     "cell_type": "code",
     "checksum": "bd6de9d61c340450539455afd0f8fdf3",
     "grade": false,
     "grade_id": "load-keys",
     "locked": false,
     "schema_version": 2,
     "solution": true
    },
    "tags": [
     "student"
    ]
   },
   "outputs": [],
   "source": [
    "# Loads Twitter authentication keys\n",
    "def load_keys(path):\n",
    "    key_file = 'keys.json'\n",
    "    with open(key_file) as f:\n",
    "        keys = json.load(f)\n",
    "    return keys"
   ]
  },
  {
   "cell_type": "code",
   "execution_count": 9,
   "metadata": {
    "collapsed": true,
    "deletable": false,
    "nbgrader": {
     "cell_type": "code",
     "checksum": "76ff200bf064ab3f5c457bc4725d8cd8",
     "grade": false,
     "grade_id": "download-recent-tweets",
     "locked": false,
     "schema_version": 2,
     "solution": true
    },
    "tags": [
     "student"
    ]
   },
   "outputs": [],
   "source": [
    "# Downloads tweets by one Twitter user.\n",
    "def download_recent_tweets_by_user(user_account_name, keys):\n",
    "    import tweepy\n",
    "    auth = tweepy.OAuthHandler(keys[\"consumer_key\"], keys[\"consumer_secret\"])\n",
    "    auth.set_access_token(keys[\"access_token\"], keys[\"access_token_secret\"])\n",
    "    api = tweepy.API(auth)\n",
    "    return [t._json for t in tweepy.Cursor(api.user_timeline, id=user_account_name, \n",
    "                                             tweet_mode='extended').items()]"
   ]
  },
  {
   "cell_type": "code",
   "execution_count": 10,
   "metadata": {
    "collapsed": true,
    "deletable": false,
    "nbgrader": {
     "cell_type": "code",
     "checksum": "75d788899e9212031d95685b7ebb4505",
     "grade": false,
     "grade_id": "save-tweets",
     "locked": false,
     "schema_version": 2,
     "solution": true
    },
    "tags": [
     "student"
    ]
   },
   "outputs": [],
   "source": [
    "# Saves a list of tweets to a file\n",
    "def save_tweets(tweets, path):\n",
    "    with open(path, \"w\") as f:        \n",
    "        json.dump(tweets, f)"
   ]
  },
  {
   "cell_type": "code",
   "execution_count": 11,
   "metadata": {
    "collapsed": true,
    "deletable": false,
    "nbgrader": {
     "cell_type": "code",
     "checksum": "31f5a74addf3b0211c65b0220160568c",
     "grade": false,
     "grade_id": "load-tweets",
     "locked": false,
     "schema_version": 2,
     "solution": true
    },
    "tags": [
     "student"
    ]
   },
   "outputs": [],
   "source": [
    "# Loads tweets that have previously been saved.\n",
    "def load_tweets(path):\n",
    "    with open(path, \"r\") as f:\n",
    "        return json.load(f)"
   ]
  },
  {
   "cell_type": "code",
   "execution_count": 12,
   "metadata": {
    "collapsed": true,
    "deletable": false,
    "nbgrader": {
     "cell_type": "code",
     "checksum": "2c2633d5128de6e4aadf225aa291118d",
     "grade": false,
     "grade_id": "get-tweets-with-cache",
     "locked": false,
     "schema_version": 2,
     "solution": true
    },
    "tags": [
     "student"
    ]
   },
   "outputs": [],
   "source": [
    "# Get recent tweets from one user, loading from cache if possible\n",
    "def get_tweets_with_cache(user_account_name, keys_path):\n",
    "    keys = load_keys(keys_path)\n",
    "    if not Path(user_account_name + \"tweets.json\").is_file():\n",
    "        tweet_list = download_recent_tweets_by_user(user_account_name, keys)\n",
    "        save_tweets(tweet_list, user_account_name + \"tweets.json\")\n",
    "    else:\n",
    "        tweet_list = load_tweets(user_account_name + \"tweets.json\")\n",
    "    return tweet_list"
   ]
  },
  {
   "cell_type": "markdown",
   "metadata": {},
   "source": [
    "### Scraping trump tweets"
   ]
  },
  {
   "cell_type": "code",
   "execution_count": 13,
   "metadata": {
    "deletable": false,
    "nbgrader": {
     "cell_type": "code",
     "checksum": "8ac3bb2120526571535abbe412929bfd",
     "grade": false,
     "grade_id": "trump-tweets",
     "locked": true,
     "schema_version": 2,
     "solution": false
    }
   },
   "outputs": [
    {
     "name": "stdout",
     "output_type": "stream",
     "text": [
      "Number of tweets downloaded: 3191\n"
     ]
    }
   ],
   "source": [
    "trump_tweets = get_tweets_with_cache(\"realdonaldtrump\", key_file)\n",
    "print(\"Number of tweets downloaded:\", len(trump_tweets))"
   ]
  },
  {
   "cell_type": "markdown",
   "metadata": {},
   "source": [
    "### Merging scraped tweets with existing Trump tweet dataset"
   ]
  },
  {
   "cell_type": "code",
   "execution_count": 15,
   "metadata": {
    "deletable": false,
    "nbgrader": {
     "cell_type": "code",
     "checksum": "4ac0f2bbd264f78c5709e04bfaee390d",
     "grade": false,
     "grade_id": "download-data",
     "locked": true,
     "schema_version": 2,
     "solution": false
    }
   },
   "outputs": [
    {
     "name": "stdout",
     "output_type": "stream",
     "text": [
      "Using version already downloaded: Sat Oct 27 02:13:31 2018\n",
      "MD5 hash of file: b6e33874de91d1a40207cdf9f9b51a09\n",
      "Located at data/old_trump_tweets.json.zip\n"
     ]
    }
   ],
   "source": [
    "from utils import fetch_and_cache\n",
    "data_url = 'http://www.ds100.org/fa18/assets/datasets/old_trump_tweets.json.zip'\n",
    "file_name = 'old_trump_tweets.json.zip'\n",
    "\n",
    "dest_path = fetch_and_cache(data_url=data_url, file=file_name)\n",
    "print(f'Located at {dest_path}')"
   ]
  },
  {
   "cell_type": "code",
   "execution_count": 16,
   "metadata": {
    "collapsed": true,
    "deletable": false,
    "editable": false,
    "nbgrader": {
     "cell_type": "code",
     "checksum": "2f84519e987875b6b57d9cc5bae460cf",
     "grade": false,
     "grade_id": "loading-old-tweets",
     "locked": true,
     "schema_version": 2,
     "solution": false
    }
   },
   "outputs": [],
   "source": [
    "my_zip = zipfile.ZipFile(dest_path, 'r')\n",
    "with my_zip.open(\"old_trump_tweets.json\", \"r\") as f:\n",
    "    old_trump_tweets = json.load(f)"
   ]
  },
  {
   "cell_type": "code",
   "execution_count": 17,
   "metadata": {
    "deletable": false,
    "editable": false,
    "nbgrader": {
     "cell_type": "code",
     "checksum": "30d8ef8fa2c1b900a48779e6cf0320b6",
     "grade": false,
     "grade_id": "pprint-old-tweets",
     "locked": true,
     "schema_version": 2,
     "solution": false
    }
   },
   "outputs": [
    {
     "name": "stdout",
     "output_type": "stream",
     "text": [
      "{'contributors': None,\n",
      " 'coordinates': None,\n",
      " 'created_at': 'Wed Oct 12 14:00:48 +0000 2016',\n",
      " 'entities': {'hashtags': [{'indices': [23, 38], 'text': 'CrookedHillary'}],\n",
      "              'media': [{'display_url': 'pic.twitter.com/wjsl8ITVvk',\n",
      "                         'expanded_url': 'https://twitter.com/realDonaldTrump/status/786204978629185536/video/1',\n",
      "                         'id': 786204885318561792,\n",
      "                         'id_str': '786204885318561792',\n",
      "                         'indices': [39, 62],\n",
      "                         'media_url': 'http://pbs.twimg.com/ext_tw_video_thumb/786204885318561792/pu/img/XqMoixLm83FzkAbn.jpg',\n",
      "                         'media_url_https': 'https://pbs.twimg.com/ext_tw_video_thumb/786204885318561792/pu/img/XqMoixLm83FzkAbn.jpg',\n",
      "                         'sizes': {'large': {'h': 576,\n",
      "                                             'resize': 'fit',\n",
      "                                             'w': 1024},\n",
      "                                   'medium': {'h': 338,\n",
      "                                              'resize': 'fit',\n",
      "                                              'w': 600},\n",
      "                                   'small': {'h': 191,\n",
      "                                             'resize': 'fit',\n",
      "                                             'w': 340},\n",
      "                                   'thumb': {'h': 150,\n",
      "                                             'resize': 'crop',\n",
      "                                             'w': 150}},\n",
      "                         'type': 'photo',\n",
      "                         'url': 'https://t.co/wjsl8ITVvk'}],\n",
      "              'symbols': [],\n",
      "              'urls': [],\n",
      "              'user_mentions': []},\n",
      " 'extended_entities': {'media': [{'additional_media_info': {'monetizable': False},\n",
      "                                  'display_url': 'pic.twitter.com/wjsl8ITVvk',\n",
      "                                  'expanded_url': 'https://twitter.com/realDonaldTrump/status/786204978629185536/video/1',\n",
      "                                  'id': 786204885318561792,\n",
      "                                  'id_str': '786204885318561792',\n",
      "                                  'indices': [39, 62],\n",
      "                                  'media_url': 'http://pbs.twimg.com/ext_tw_video_thumb/786204885318561792/pu/img/XqMoixLm83FzkAbn.jpg',\n",
      "                                  'media_url_https': 'https://pbs.twimg.com/ext_tw_video_thumb/786204885318561792/pu/img/XqMoixLm83FzkAbn.jpg',\n",
      "                                  'sizes': {'large': {'h': 576,\n",
      "                                                      'resize': 'fit',\n",
      "                                                      'w': 1024},\n",
      "                                            'medium': {'h': 338,\n",
      "                                                       'resize': 'fit',\n",
      "                                                       'w': 600},\n",
      "                                            'small': {'h': 191,\n",
      "                                                      'resize': 'fit',\n",
      "                                                      'w': 340},\n",
      "                                            'thumb': {'h': 150,\n",
      "                                                      'resize': 'crop',\n",
      "                                                      'w': 150}},\n",
      "                                  'type': 'video',\n",
      "                                  'url': 'https://t.co/wjsl8ITVvk',\n",
      "                                  'video_info': {'aspect_ratio': [16, 9],\n",
      "                                                 'duration_millis': 30106,\n",
      "                                                 'variants': [{'bitrate': 832000,\n",
      "                                                               'content_type': 'video/mp4',\n",
      "                                                               'url': 'https://video.twimg.com/ext_tw_video/786204885318561792/pu/vid/640x360/6vt24D3ZQSvYuDqe.mp4'},\n",
      "                                                              {'bitrate': 2176000,\n",
      "                                                               'content_type': 'video/mp4',\n",
      "                                                               'url': 'https://video.twimg.com/ext_tw_video/786204885318561792/pu/vid/1280x720/rSbgQdvR9TPIlRWr.mp4'},\n",
      "                                                              {'bitrate': 320000,\n",
      "                                                               'content_type': 'video/mp4',\n",
      "                                                               'url': 'https://video.twimg.com/ext_tw_video/786204885318561792/pu/vid/320x180/JuNJDqr1KHqoP83N.mp4'},\n",
      "                                                              {'content_type': 'application/x-mpegURL',\n",
      "                                                               'url': 'https://video.twimg.com/ext_tw_video/786204885318561792/pu/pl/IugUNii3a7lmjApS.m3u8'}]}}]},\n",
      " 'favorite_count': 42242,\n",
      " 'favorited': False,\n",
      " 'geo': None,\n",
      " 'id': 786204978629185536,\n",
      " 'id_str': '786204978629185536',\n",
      " 'in_reply_to_screen_name': None,\n",
      " 'in_reply_to_status_id': None,\n",
      " 'in_reply_to_status_id_str': None,\n",
      " 'in_reply_to_user_id': None,\n",
      " 'in_reply_to_user_id_str': None,\n",
      " 'is_quote_status': False,\n",
      " 'lang': 'en',\n",
      " 'place': {'attributes': {},\n",
      "           'bounding_box': {'coordinates': [[[-87.634643, 24.396308],\n",
      "                                             [-79.974307, 24.396308],\n",
      "                                             [-79.974307, 31.001056],\n",
      "                                             [-87.634643, 31.001056]]],\n",
      "                            'type': 'Polygon'},\n",
      "           'contained_within': [],\n",
      "           'country': 'United States',\n",
      "           'country_code': 'US',\n",
      "           'full_name': 'Florida, USA',\n",
      "           'id': '4ec01c9dbc693497',\n",
      "           'name': 'Florida',\n",
      "           'place_type': 'admin',\n",
      "           'url': 'https://api.twitter.com/1.1/geo/id/4ec01c9dbc693497.json'},\n",
      " 'possibly_sensitive': False,\n",
      " 'retweet_count': 24915,\n",
      " 'retweeted': False,\n",
      " 'source': '<a href=\"http://twitter.com/download/iphone\" '\n",
      "           'rel=\"nofollow\">Twitter for iPhone</a>',\n",
      " 'text': 'PAY TO PLAY POLITICS. \\n#CrookedHillary https://t.co/wjsl8ITVvk',\n",
      " 'truncated': False,\n",
      " 'user': {'contributors_enabled': False,\n",
      "          'created_at': 'Wed Mar 18 13:46:38 +0000 2009',\n",
      "          'default_profile': False,\n",
      "          'default_profile_image': False,\n",
      "          'description': '45th President of the United States of America🇺🇸',\n",
      "          'entities': {'description': {'urls': []}},\n",
      "          'favourites_count': 12,\n",
      "          'follow_request_sent': False,\n",
      "          'followers_count': 35307313,\n",
      "          'following': False,\n",
      "          'friends_count': 45,\n",
      "          'geo_enabled': True,\n",
      "          'has_extended_profile': False,\n",
      "          'id': 25073877,\n",
      "          'id_str': '25073877',\n",
      "          'is_translation_enabled': True,\n",
      "          'is_translator': False,\n",
      "          'lang': 'en',\n",
      "          'listed_count': 74225,\n",
      "          'location': 'Washington, DC',\n",
      "          'name': 'Donald J. Trump',\n",
      "          'notifications': False,\n",
      "          'profile_background_color': '6D5C18',\n",
      "          'profile_background_image_url': 'http://pbs.twimg.com/profile_background_images/530021613/trump_scotland__43_of_70_cc.jpg',\n",
      "          'profile_background_image_url_https': 'https://pbs.twimg.com/profile_background_images/530021613/trump_scotland__43_of_70_cc.jpg',\n",
      "          'profile_background_tile': True,\n",
      "          'profile_banner_url': 'https://pbs.twimg.com/profile_banners/25073877/1501916634',\n",
      "          'profile_image_url': 'http://pbs.twimg.com/profile_images/874276197357596672/kUuht00m_normal.jpg',\n",
      "          'profile_image_url_https': 'https://pbs.twimg.com/profile_images/874276197357596672/kUuht00m_normal.jpg',\n",
      "          'profile_link_color': '1B95E0',\n",
      "          'profile_sidebar_border_color': 'BDDCAD',\n",
      "          'profile_sidebar_fill_color': 'C5CEC0',\n",
      "          'profile_text_color': '333333',\n",
      "          'profile_use_background_image': True,\n",
      "          'protected': False,\n",
      "          'screen_name': 'realDonaldTrump',\n",
      "          'statuses_count': 35480,\n",
      "          'time_zone': 'Eastern Time (US & Canada)',\n",
      "          'translator_type': 'regular',\n",
      "          'url': None,\n",
      "          'utc_offset': -14400,\n",
      "          'verified': True}}\n"
     ]
    }
   ],
   "source": [
    "pprint(old_trump_tweets[0])"
   ]
  },
  {
   "cell_type": "code",
   "execution_count": 18,
   "metadata": {
    "deletable": false,
    "editable": false,
    "nbgrader": {
     "cell_type": "code",
     "checksum": "c88eaf1ba38e6c52151ad6a2922216c0",
     "grade": false,
     "grade_id": "listing-keys",
     "locked": true,
     "schema_version": 2,
     "solution": false
    }
   },
   "outputs": [
    {
     "data": {
      "text/plain": [
       "dict_keys(['created_at', 'id', 'id_str', 'text', 'truncated', 'entities', 'extended_entities', 'source', 'in_reply_to_status_id', 'in_reply_to_status_id_str', 'in_reply_to_user_id', 'in_reply_to_user_id_str', 'in_reply_to_screen_name', 'user', 'geo', 'coordinates', 'place', 'contributors', 'is_quote_status', 'retweet_count', 'favorite_count', 'favorited', 'retweeted', 'possibly_sensitive', 'lang'])"
      ]
     },
     "execution_count": 18,
     "metadata": {},
     "output_type": "execute_result"
    }
   ],
   "source": [
    "old_trump_tweets[0].keys()"
   ]
  },
  {
   "cell_type": "code",
   "execution_count": 19,
   "metadata": {
    "collapsed": true,
    "deletable": false,
    "nbgrader": {
     "cell_type": "code",
     "checksum": "cfff2cf8e110d51cb3dbb7f5086b9be4",
     "grade": false,
     "grade_id": "q3a-answer",
     "locked": false,
     "schema_version": 2,
     "solution": true
    }
   },
   "outputs": [],
   "source": [
    "all_tweets = []\n",
    "new_trump_tweet_ids = set([t['id'] for t in trump_tweets])\n",
    "for old_tweet in old_trump_tweets:\n",
    "    if old_tweet['id'] not in new_trump_tweet_ids:\n",
    "        all_tweets.append(old_tweet)\n",
    "\n",
    "all_tweets += trump_tweets"
   ]
  },
  {
   "cell_type": "code",
   "execution_count": 20,
   "metadata": {
    "collapsed": true,
    "deletable": false,
    "editable": false,
    "nbgrader": {
     "cell_type": "code",
     "checksum": "7a21da10aa86da615b340c8edb2973c3",
     "grade": true,
     "grade_id": "q3a-test",
     "locked": true,
     "points": 2,
     "schema_version": 2,
     "solution": false
    }
   },
   "outputs": [],
   "source": [
    "assert len(all_tweets) > len(trump_tweets)\n",
    "assert len(all_tweets) > len(old_trump_tweets)"
   ]
  },
  {
   "cell_type": "markdown",
   "metadata": {},
   "source": [
    "### Creating pandas dataframe of tweets"
   ]
  },
  {
   "cell_type": "code",
   "execution_count": 21,
   "metadata": {
    "collapsed": true
   },
   "outputs": [],
   "source": [
    "txt = [tweet['text'] if 'text' in tweet.keys() else tweet['full_text'] for tweet in all_tweets]"
   ]
  },
  {
   "cell_type": "code",
   "execution_count": 22,
   "metadata": {
    "collapsed": true,
    "deletable": false,
    "nbgrader": {
     "cell_type": "code",
     "checksum": "dbbe93f4346b0c4ce93681c2c7d06078",
     "grade": false,
     "grade_id": "q3b-answer",
     "locked": false,
     "schema_version": 2,
     "solution": true
    },
    "tags": [
     "student"
    ]
   },
   "outputs": [],
   "source": [
    "trump = pd.DataFrame(all_tweets)[['created_at', 'id', 'source', 'retweet_count']].set_index('id', inplace=False)"
   ]
  },
  {
   "cell_type": "code",
   "execution_count": 23,
   "metadata": {
    "collapsed": true
   },
   "outputs": [],
   "source": [
    "trump['text'] = pd.Series(data=txt, index=trump.index)"
   ]
  },
  {
   "cell_type": "code",
   "execution_count": 24,
   "metadata": {
    "collapsed": true
   },
   "outputs": [],
   "source": [
    "trump.sort_index(inplace=True)"
   ]
  },
  {
   "cell_type": "code",
   "execution_count": 25,
   "metadata": {
    "scrolled": true
   },
   "outputs": [
    {
     "data": {
      "text/html": [
       "<div>\n",
       "<style scoped>\n",
       "    .dataframe tbody tr th:only-of-type {\n",
       "        vertical-align: middle;\n",
       "    }\n",
       "\n",
       "    .dataframe tbody tr th {\n",
       "        vertical-align: top;\n",
       "    }\n",
       "\n",
       "    .dataframe thead th {\n",
       "        text-align: right;\n",
       "    }\n",
       "</style>\n",
       "<table border=\"1\" class=\"dataframe\">\n",
       "  <thead>\n",
       "    <tr style=\"text-align: right;\">\n",
       "      <th></th>\n",
       "      <th>created_at</th>\n",
       "      <th>source</th>\n",
       "      <th>retweet_count</th>\n",
       "      <th>text</th>\n",
       "    </tr>\n",
       "    <tr>\n",
       "      <th>id</th>\n",
       "      <th></th>\n",
       "      <th></th>\n",
       "      <th></th>\n",
       "      <th></th>\n",
       "    </tr>\n",
       "  </thead>\n",
       "  <tbody>\n",
       "    <tr>\n",
       "      <th>690171032150237184</th>\n",
       "      <td>Thu Jan 21 13:56:11 +0000 2016</td>\n",
       "      <td>&lt;a href=\"http://twitter.com/download/android\" rel=\"nofollow\"&gt;Twitter for Android&lt;/a&gt;</td>\n",
       "      <td>1059</td>\n",
       "      <td>\"@bigop1: @realDonaldTrump  @SarahPalinUSA https://t.co/3kYQGqeVyD\"</td>\n",
       "    </tr>\n",
       "    <tr>\n",
       "      <th>690171403388104704</th>\n",
       "      <td>Thu Jan 21 13:57:39 +0000 2016</td>\n",
       "      <td>&lt;a href=\"http://twitter.com/download/android\" rel=\"nofollow\"&gt;Twitter for Android&lt;/a&gt;</td>\n",
       "      <td>1339</td>\n",
       "      <td>\"@AmericanAsPie:  @glennbeck @SarahPalinUSA Remember when Glenn gave out gifts to ILLEGAL ALIENS at crossing the border? Me too!\"</td>\n",
       "    </tr>\n",
       "    <tr>\n",
       "      <th>690173226341691392</th>\n",
       "      <td>Thu Jan 21 14:04:54 +0000 2016</td>\n",
       "      <td>&lt;a href=\"http://twitter.com/download/android\" rel=\"nofollow\"&gt;Twitter for Android&lt;/a&gt;</td>\n",
       "      <td>2006</td>\n",
       "      <td>So sad that @CNN and many others refused to show the massive crowd at the arena yesterday in Oklahoma. Dishonest reporting!</td>\n",
       "    </tr>\n",
       "    <tr>\n",
       "      <th>690176882055114758</th>\n",
       "      <td>Thu Jan 21 14:19:26 +0000 2016</td>\n",
       "      <td>&lt;a href=\"http://twitter.com/download/android\" rel=\"nofollow\"&gt;Twitter for Android&lt;/a&gt;</td>\n",
       "      <td>2266</td>\n",
       "      <td>Sad sack @JebBush has just done another ad on me, with special interest money, saying I won't beat Hillary - I WILL. But he can't beat me.</td>\n",
       "    </tr>\n",
       "    <tr>\n",
       "      <th>690180284189310976</th>\n",
       "      <td>Thu Jan 21 14:32:57 +0000 2016</td>\n",
       "      <td>&lt;a href=\"http://twitter.com/download/android\" rel=\"nofollow\"&gt;Twitter for Android&lt;/a&gt;</td>\n",
       "      <td>2886</td>\n",
       "      <td>Low energy candidate @JebBush has wasted $80 million on his failed presidential campaign. Millions spent on me. He should go home and relax!</td>\n",
       "    </tr>\n",
       "  </tbody>\n",
       "</table>\n",
       "</div>"
      ],
      "text/plain": [
       "                                        created_at  \\\n",
       "id                                                   \n",
       "690171032150237184  Thu Jan 21 13:56:11 +0000 2016   \n",
       "690171403388104704  Thu Jan 21 13:57:39 +0000 2016   \n",
       "690173226341691392  Thu Jan 21 14:04:54 +0000 2016   \n",
       "690176882055114758  Thu Jan 21 14:19:26 +0000 2016   \n",
       "690180284189310976  Thu Jan 21 14:32:57 +0000 2016   \n",
       "\n",
       "                                                                                                  source  \\\n",
       "id                                                                                                         \n",
       "690171032150237184  <a href=\"http://twitter.com/download/android\" rel=\"nofollow\">Twitter for Android</a>   \n",
       "690171403388104704  <a href=\"http://twitter.com/download/android\" rel=\"nofollow\">Twitter for Android</a>   \n",
       "690173226341691392  <a href=\"http://twitter.com/download/android\" rel=\"nofollow\">Twitter for Android</a>   \n",
       "690176882055114758  <a href=\"http://twitter.com/download/android\" rel=\"nofollow\">Twitter for Android</a>   \n",
       "690180284189310976  <a href=\"http://twitter.com/download/android\" rel=\"nofollow\">Twitter for Android</a>   \n",
       "\n",
       "                    retweet_count  \\\n",
       "id                                  \n",
       "690171032150237184           1059   \n",
       "690171403388104704           1339   \n",
       "690173226341691392           2006   \n",
       "690176882055114758           2266   \n",
       "690180284189310976           2886   \n",
       "\n",
       "                                                                                                                                                            text  \n",
       "id                                                                                                                                                                \n",
       "690171032150237184                                                                           \"@bigop1: @realDonaldTrump  @SarahPalinUSA https://t.co/3kYQGqeVyD\"  \n",
       "690171403388104704             \"@AmericanAsPie:  @glennbeck @SarahPalinUSA Remember when Glenn gave out gifts to ILLEGAL ALIENS at crossing the border? Me too!\"  \n",
       "690173226341691392                   So sad that @CNN and many others refused to show the massive crowd at the arena yesterday in Oklahoma. Dishonest reporting!  \n",
       "690176882055114758    Sad sack @JebBush has just done another ad on me, with special interest money, saying I won't beat Hillary - I WILL. But he can't beat me.  \n",
       "690180284189310976  Low energy candidate @JebBush has wasted $80 million on his failed presidential campaign. Millions spent on me. He should go home and relax!  "
      ]
     },
     "execution_count": 25,
     "metadata": {},
     "output_type": "execute_result"
    }
   ],
   "source": [
    "trump.head()"
   ]
  },
  {
   "cell_type": "markdown",
   "metadata": {},
   "source": [
    "# 2) Additional data cleaning"
   ]
  },
  {
   "cell_type": "code",
   "execution_count": 26,
   "metadata": {
    "collapsed": true
   },
   "outputs": [],
   "source": [
    "trump.sort_index(inplace=True)\n",
    "trump['time'] = pd.to_datetime(trump['created_at'])\n",
    "trump = trump.drop('created_at', axis=1)\n",
    "source_pat = \"(>.*<)\"\n",
    "trump['source'] = trump['source'].str.extract(source_pat)\n",
    "trump['source'] = trump['source'].str.replace(\">\", \"\")\n",
    "trump['source'] = trump['source'].str.replace(\"<\", \"\")"
   ]
  },
  {
   "cell_type": "code",
   "execution_count": 27,
   "metadata": {},
   "outputs": [
    {
     "data": {
      "text/html": [
       "<div>\n",
       "<style scoped>\n",
       "    .dataframe tbody tr th:only-of-type {\n",
       "        vertical-align: middle;\n",
       "    }\n",
       "\n",
       "    .dataframe tbody tr th {\n",
       "        vertical-align: top;\n",
       "    }\n",
       "\n",
       "    .dataframe thead th {\n",
       "        text-align: right;\n",
       "    }\n",
       "</style>\n",
       "<table border=\"1\" class=\"dataframe\">\n",
       "  <thead>\n",
       "    <tr style=\"text-align: right;\">\n",
       "      <th></th>\n",
       "      <th>source</th>\n",
       "      <th>retweet_count</th>\n",
       "      <th>text</th>\n",
       "      <th>time</th>\n",
       "    </tr>\n",
       "    <tr>\n",
       "      <th>id</th>\n",
       "      <th></th>\n",
       "      <th></th>\n",
       "      <th></th>\n",
       "      <th></th>\n",
       "    </tr>\n",
       "  </thead>\n",
       "  <tbody>\n",
       "    <tr>\n",
       "      <th>690171032150237184</th>\n",
       "      <td>Twitter for Android</td>\n",
       "      <td>1059</td>\n",
       "      <td>\"@bigop1: @realDonaldTrump  @SarahPalinUSA https://t.co/3kYQGqeVyD\"</td>\n",
       "      <td>2016-01-21 13:56:11</td>\n",
       "    </tr>\n",
       "    <tr>\n",
       "      <th>690171403388104704</th>\n",
       "      <td>Twitter for Android</td>\n",
       "      <td>1339</td>\n",
       "      <td>\"@AmericanAsPie:  @glennbeck @SarahPalinUSA Remember when Glenn gave out gifts to ILLEGAL ALIENS at crossing the border? Me too!\"</td>\n",
       "      <td>2016-01-21 13:57:39</td>\n",
       "    </tr>\n",
       "    <tr>\n",
       "      <th>690173226341691392</th>\n",
       "      <td>Twitter for Android</td>\n",
       "      <td>2006</td>\n",
       "      <td>So sad that @CNN and many others refused to show the massive crowd at the arena yesterday in Oklahoma. Dishonest reporting!</td>\n",
       "      <td>2016-01-21 14:04:54</td>\n",
       "    </tr>\n",
       "    <tr>\n",
       "      <th>690176882055114758</th>\n",
       "      <td>Twitter for Android</td>\n",
       "      <td>2266</td>\n",
       "      <td>Sad sack @JebBush has just done another ad on me, with special interest money, saying I won't beat Hillary - I WILL. But he can't beat me.</td>\n",
       "      <td>2016-01-21 14:19:26</td>\n",
       "    </tr>\n",
       "    <tr>\n",
       "      <th>690180284189310976</th>\n",
       "      <td>Twitter for Android</td>\n",
       "      <td>2886</td>\n",
       "      <td>Low energy candidate @JebBush has wasted $80 million on his failed presidential campaign. Millions spent on me. He should go home and relax!</td>\n",
       "      <td>2016-01-21 14:32:57</td>\n",
       "    </tr>\n",
       "  </tbody>\n",
       "</table>\n",
       "</div>"
      ],
      "text/plain": [
       "                                 source  retweet_count  \\\n",
       "id                                                       \n",
       "690171032150237184  Twitter for Android           1059   \n",
       "690171403388104704  Twitter for Android           1339   \n",
       "690173226341691392  Twitter for Android           2006   \n",
       "690176882055114758  Twitter for Android           2266   \n",
       "690180284189310976  Twitter for Android           2886   \n",
       "\n",
       "                                                                                                                                                            text  \\\n",
       "id                                                                                                                                                                 \n",
       "690171032150237184                                                                           \"@bigop1: @realDonaldTrump  @SarahPalinUSA https://t.co/3kYQGqeVyD\"   \n",
       "690171403388104704             \"@AmericanAsPie:  @glennbeck @SarahPalinUSA Remember when Glenn gave out gifts to ILLEGAL ALIENS at crossing the border? Me too!\"   \n",
       "690173226341691392                   So sad that @CNN and many others refused to show the massive crowd at the arena yesterday in Oklahoma. Dishonest reporting!   \n",
       "690176882055114758    Sad sack @JebBush has just done another ad on me, with special interest money, saying I won't beat Hillary - I WILL. But he can't beat me.   \n",
       "690180284189310976  Low energy candidate @JebBush has wasted $80 million on his failed presidential campaign. Millions spent on me. He should go home and relax!   \n",
       "\n",
       "                                  time  \n",
       "id                                      \n",
       "690171032150237184 2016-01-21 13:56:11  \n",
       "690171403388104704 2016-01-21 13:57:39  \n",
       "690173226341691392 2016-01-21 14:04:54  \n",
       "690176882055114758 2016-01-21 14:19:26  \n",
       "690180284189310976 2016-01-21 14:32:57  "
      ]
     },
     "execution_count": 27,
     "metadata": {},
     "output_type": "execute_result"
    }
   ],
   "source": [
    "trump.head()"
   ]
  },
  {
   "cell_type": "markdown",
   "metadata": {},
   "source": [
    "### Removing links, newlines, quotes, 'amp'"
   ]
  },
  {
   "cell_type": "code",
   "execution_count": 30,
   "metadata": {
    "collapsed": true
   },
   "outputs": [],
   "source": [
    "trump['text'] = trump['text'].str.replace(r'(https){1}.*', '')\n",
    "trump['text'] = trump['text'].str.replace(r'(\\n){1}', '')\n",
    "trump['text'] = trump['text'].str.replace(r'\"', '')"
   ]
  },
  {
   "cell_type": "code",
   "execution_count": 34,
   "metadata": {
    "collapsed": true
   },
   "outputs": [],
   "source": [
    "trump['text'] = trump['text'].str.replace(r'(&amp){1}', '&')"
   ]
  },
  {
   "cell_type": "code",
   "execution_count": 35,
   "metadata": {
    "collapsed": true
   },
   "outputs": [],
   "source": [
    "trump['text'] = trump['text'].str.replace(r'(&;){1}', '&')"
   ]
  },
  {
   "cell_type": "code",
   "execution_count": 36,
   "metadata": {},
   "outputs": [
    {
     "data": {
      "text/html": [
       "<div>\n",
       "<style scoped>\n",
       "    .dataframe tbody tr th:only-of-type {\n",
       "        vertical-align: middle;\n",
       "    }\n",
       "\n",
       "    .dataframe tbody tr th {\n",
       "        vertical-align: top;\n",
       "    }\n",
       "\n",
       "    .dataframe thead th {\n",
       "        text-align: right;\n",
       "    }\n",
       "</style>\n",
       "<table border=\"1\" class=\"dataframe\">\n",
       "  <thead>\n",
       "    <tr style=\"text-align: right;\">\n",
       "      <th></th>\n",
       "      <th>source</th>\n",
       "      <th>retweet_count</th>\n",
       "      <th>text</th>\n",
       "      <th>time</th>\n",
       "    </tr>\n",
       "    <tr>\n",
       "      <th>id</th>\n",
       "      <th></th>\n",
       "      <th></th>\n",
       "      <th></th>\n",
       "      <th></th>\n",
       "    </tr>\n",
       "  </thead>\n",
       "  <tbody>\n",
       "    <tr>\n",
       "      <th>690171032150237184</th>\n",
       "      <td>Twitter for Android</td>\n",
       "      <td>1059</td>\n",
       "      <td>@bigop1: @realDonaldTrump  @SarahPalinUSA</td>\n",
       "      <td>2016-01-21 13:56:11</td>\n",
       "    </tr>\n",
       "    <tr>\n",
       "      <th>690171403388104704</th>\n",
       "      <td>Twitter for Android</td>\n",
       "      <td>1339</td>\n",
       "      <td>@AmericanAsPie:  @glennbeck @SarahPalinUSA Remember when Glenn gave out gifts to ILLEGAL ALIENS at crossing the border? Me too!</td>\n",
       "      <td>2016-01-21 13:57:39</td>\n",
       "    </tr>\n",
       "    <tr>\n",
       "      <th>690173226341691392</th>\n",
       "      <td>Twitter for Android</td>\n",
       "      <td>2006</td>\n",
       "      <td>So sad that @CNN and many others refused to show the massive crowd at the arena yesterday in Oklahoma. Dishonest reporting!</td>\n",
       "      <td>2016-01-21 14:04:54</td>\n",
       "    </tr>\n",
       "    <tr>\n",
       "      <th>690176882055114758</th>\n",
       "      <td>Twitter for Android</td>\n",
       "      <td>2266</td>\n",
       "      <td>Sad sack @JebBush has just done another ad on me, with special interest money, saying I won't beat Hillary - I WILL. But he can't beat me.</td>\n",
       "      <td>2016-01-21 14:19:26</td>\n",
       "    </tr>\n",
       "    <tr>\n",
       "      <th>690180284189310976</th>\n",
       "      <td>Twitter for Android</td>\n",
       "      <td>2886</td>\n",
       "      <td>Low energy candidate @JebBush has wasted $80 million on his failed presidential campaign. Millions spent on me. He should go home and relax!</td>\n",
       "      <td>2016-01-21 14:32:57</td>\n",
       "    </tr>\n",
       "    <tr>\n",
       "      <th>690271688127213568</th>\n",
       "      <td>Twitter for iPhone</td>\n",
       "      <td>1429</td>\n",
       "      <td>New Day on CNN treats me very badly. @AlisynCamerota is a disaster. Not going to watch anymore.</td>\n",
       "      <td>2016-01-21 20:36:09</td>\n",
       "    </tr>\n",
       "    <tr>\n",
       "      <th>690272687168458754</th>\n",
       "      <td>Twitter for Android</td>\n",
       "      <td>1053</td>\n",
       "      <td>Happy birthday to my friend, the great @jacknicklaus - a totally special guy!</td>\n",
       "      <td>2016-01-21 20:40:07</td>\n",
       "    </tr>\n",
       "    <tr>\n",
       "      <th>690313350278819840</th>\n",
       "      <td>Twitter for iPhone</td>\n",
       "      <td>2329</td>\n",
       "      <td>Thank you, Iowa! #Trump2016</td>\n",
       "      <td>2016-01-21 23:21:42</td>\n",
       "    </tr>\n",
       "    <tr>\n",
       "      <th>690315202261155840</th>\n",
       "      <td>Twitter for iPhone</td>\n",
       "      <td>1463</td>\n",
       "      <td>Thank you! #Trump2016</td>\n",
       "      <td>2016-01-21 23:29:04</td>\n",
       "    </tr>\n",
       "    <tr>\n",
       "      <th>690315366564626433</th>\n",
       "      <td>Twitter for iPhone</td>\n",
       "      <td>1761</td>\n",
       "      <td>Thank you, New Hampshire!#Trump2016</td>\n",
       "      <td>2016-01-21 23:29:43</td>\n",
       "    </tr>\n",
       "    <tr>\n",
       "      <th>690315667636023296</th>\n",
       "      <td>Twitter for iPhone</td>\n",
       "      <td>2217</td>\n",
       "      <td>#Trump2016 #MakeAmericaGreatAgain</td>\n",
       "      <td>2016-01-21 23:30:55</td>\n",
       "    </tr>\n",
       "    <tr>\n",
       "      <th>690336644281581568</th>\n",
       "      <td>Twitter for iPhone</td>\n",
       "      <td>1576</td>\n",
       "      <td>Why does @Greta have a fired Bushy like dummy, John Sununu on- spewing false info? I will beat Hillary by a lot, she wants no part of Trump.</td>\n",
       "      <td>2016-01-22 00:54:16</td>\n",
       "    </tr>\n",
       "    <tr>\n",
       "      <th>690337376061788161</th>\n",
       "      <td>Twitter for iPhone</td>\n",
       "      <td>2422</td>\n",
       "      <td>Thank you, Iowa! #FITN #IACaucus#MakeAmericaGreatAgain #Trump2016</td>\n",
       "      <td>2016-01-22 00:57:10</td>\n",
       "    </tr>\n",
       "    <tr>\n",
       "      <th>690382564494839809</th>\n",
       "      <td>Twitter for iPhone</td>\n",
       "      <td>2187</td>\n",
       "      <td>National Review is a failing publication that has lost it's way. It's circulation is way down w its influence being at an all time low. Sad!</td>\n",
       "      <td>2016-01-22 03:56:44</td>\n",
       "    </tr>\n",
       "    <tr>\n",
       "      <th>690382619213742082</th>\n",
       "      <td>Twitter for iPhone</td>\n",
       "      <td>1817</td>\n",
       "      <td>Very few people read the National Review because it only knows how to criticize, but not how to lead.</td>\n",
       "      <td>2016-01-22 03:56:57</td>\n",
       "    </tr>\n",
       "    <tr>\n",
       "      <th>690382722162913280</th>\n",
       "      <td>Twitter for iPhone</td>\n",
       "      <td>2236</td>\n",
       "      <td>The late, great, William F. Buckley would be ashamed of what had happened to his prize, the dying National Review!</td>\n",
       "      <td>2016-01-22 03:57:22</td>\n",
       "    </tr>\n",
       "    <tr>\n",
       "      <th>690404308010057728</th>\n",
       "      <td>Twitter for iPhone</td>\n",
       "      <td>9144</td>\n",
       "      <td>RT @williebosshog: Make America Great Again! #Trump2016</td>\n",
       "      <td>2016-01-22 05:23:08</td>\n",
       "    </tr>\n",
       "    <tr>\n",
       "      <th>690528062190944256</th>\n",
       "      <td>Twitter for Android</td>\n",
       "      <td>1595</td>\n",
       "      <td>Ted Cruz complains about my views on eminent domain, but without it we wouldn't have roads, highways, airports, schools or even pipelines.</td>\n",
       "      <td>2016-01-22 13:34:54</td>\n",
       "    </tr>\n",
       "    <tr>\n",
       "      <th>690528407117889538</th>\n",
       "      <td>Twitter for Android</td>\n",
       "      <td>909</td>\n",
       "      <td>@realOllieTaylor:  Isn't it time we had a president? Let goofy Glen keep Canada Cruz who can't win. The American people have Trump!</td>\n",
       "      <td>2016-01-22 13:36:16</td>\n",
       "    </tr>\n",
       "    <tr>\n",
       "      <th>690528526181601281</th>\n",
       "      <td>Twitter for Android</td>\n",
       "      <td>676</td>\n",
       "      <td>@BornToBeGOP: @realDonaldTrump No sleep for the #TrumpTrain!</td>\n",
       "      <td>2016-01-22 13:36:44</td>\n",
       "    </tr>\n",
       "    <tr>\n",
       "      <th>690529122326413314</th>\n",
       "      <td>Twitter for Android</td>\n",
       "      <td>773</td>\n",
       "      <td>@NeilTurner_: @realDonaldTrump</td>\n",
       "      <td>2016-01-22 13:39:06</td>\n",
       "    </tr>\n",
       "    <tr>\n",
       "      <th>690529690205818880</th>\n",
       "      <td>Twitter for Android</td>\n",
       "      <td>753</td>\n",
       "      <td>#TedCruz eligibility to be President not settled law, says Cruz' Constitutional Law Professor, #LaurenceTribe</td>\n",
       "      <td>2016-01-22 13:41:22</td>\n",
       "    </tr>\n",
       "    <tr>\n",
       "      <th>690530164711624705</th>\n",
       "      <td>Twitter for Android</td>\n",
       "      <td>637</td>\n",
       "      <td>@TruBluMajority: #laurencetribe calls Cruz constitutional hypocrite on @WBUR</td>\n",
       "      <td>2016-01-22 13:43:15</td>\n",
       "    </tr>\n",
       "    <tr>\n",
       "      <th>690532959363866625</th>\n",
       "      <td>Twitter for Android</td>\n",
       "      <td>1937</td>\n",
       "      <td>Highly respected Constitutional law professor Mary Brigid McManamon has just stated, Ted Cruz is not eligible to be President. Big problem</td>\n",
       "      <td>2016-01-22 13:54:21</td>\n",
       "    </tr>\n",
       "    <tr>\n",
       "      <th>690534215478173697</th>\n",
       "      <td>Twitter for Android</td>\n",
       "      <td>875</td>\n",
       "      <td>@D: #MaryBrigidMcManamon, Washington Post: Constitutionally speaking, #Cruz simply isn’t eligible to be president</td>\n",
       "      <td>2016-01-22 13:59:21</td>\n",
       "    </tr>\n",
       "    <tr>\n",
       "      <th>690534576066719744</th>\n",
       "      <td>Twitter for Android</td>\n",
       "      <td>799</td>\n",
       "      <td>@CyberCiety: #MaryBrigidMcManamon clarified how #CommonLaw is used to interpret meaning of #NaturalBorn #TedCruz</td>\n",
       "      <td>2016-01-22 14:00:47</td>\n",
       "    </tr>\n",
       "    <tr>\n",
       "      <th>690537121916923904</th>\n",
       "      <td>Twitter for Android</td>\n",
       "      <td>1738</td>\n",
       "      <td>@MiamiNewTimes: Poll: Trump has more support in Florida than Rubio and Bush combined.</td>\n",
       "      <td>2016-01-22 14:10:54</td>\n",
       "    </tr>\n",
       "    <tr>\n",
       "      <th>690540484154896384</th>\n",
       "      <td>Twitter for Android</td>\n",
       "      <td>2116</td>\n",
       "      <td>The failing @NRO National Review Magazine has just been informed by the Republican National Committee that they cannot participate in debate</td>\n",
       "      <td>2016-01-22 14:24:15</td>\n",
       "    </tr>\n",
       "    <tr>\n",
       "      <th>690560125916975104</th>\n",
       "      <td>Twitter for Android</td>\n",
       "      <td>1661</td>\n",
       "      <td>After spending $89 million, @JebBush is at the bottom of the barrel in polls. He is ashamed to use the name Bush in ads. Low energy guy!</td>\n",
       "      <td>2016-01-22 15:42:18</td>\n",
       "    </tr>\n",
       "    <tr>\n",
       "      <th>690560942430523392</th>\n",
       "      <td>Twitter for Android</td>\n",
       "      <td>1110</td>\n",
       "      <td>@Lisa_Milicaj: Truth be told, I  never heard of The National Review until they tried to declare war on you. No worries, you got my vote!</td>\n",
       "      <td>2016-01-22 15:45:33</td>\n",
       "    </tr>\n",
       "    <tr>\n",
       "      <th>690562515500032000</th>\n",
       "      <td>Twitter for Android</td>\n",
       "      <td>4318</td>\n",
       "      <td>@WhiteGenocideTM: @realDonaldTrump Poor Jeb. I could've sworn I saw him outside Trump Tower the other day!</td>\n",
       "      <td>2016-01-22 15:51:48</td>\n",
       "    </tr>\n",
       "    <tr>\n",
       "      <th>690585875365756928</th>\n",
       "      <td>Twitter for iPhone</td>\n",
       "      <td>2520</td>\n",
       "      <td>Wow! This might be my highest # yet! Thank you to my opposition- you are totally ineffective &amp; have been for years!</td>\n",
       "      <td>2016-01-22 17:24:37</td>\n",
       "    </tr>\n",
       "    <tr>\n",
       "      <th>690636948864512000</th>\n",
       "      <td>Twitter for Android</td>\n",
       "      <td>1850</td>\n",
       "      <td>The dying @NRO National Review has totally given up the fight against Barrack Obama. They have been losing for years. I will beat Hillary!</td>\n",
       "      <td>2016-01-22 20:47:34</td>\n",
       "    </tr>\n",
       "    <tr>\n",
       "      <th>690641744287760384</th>\n",
       "      <td>Twitter for iPhone</td>\n",
       "      <td>2760</td>\n",
       "      <td>New Reuters poll! Thank you!#MakeAmericaGreatAgain #Trump2016</td>\n",
       "      <td>2016-01-22 21:06:37</td>\n",
       "    </tr>\n",
       "    <tr>\n",
       "      <th>690649956634353666</th>\n",
       "      <td>Twitter for iPhone</td>\n",
       "      <td>2522</td>\n",
       "      <td>National Black Republican Association Endorses Donald J. Trump #Trump2016 #MakeAmericaGreatAgain</td>\n",
       "      <td>2016-01-22 21:39:15</td>\n",
       "    </tr>\n",
       "    <tr>\n",
       "      <th>690656497022337024</th>\n",
       "      <td>Twitter for iPhone</td>\n",
       "      <td>2314</td>\n",
       "      <td>New National GOP Zogby Poll#MakeAmericaGreatAgain #Trump2016</td>\n",
       "      <td>2016-01-22 22:05:15</td>\n",
       "    </tr>\n",
       "    <tr>\n",
       "      <th>690669496621633537</th>\n",
       "      <td>Twitter for Android</td>\n",
       "      <td>1207</td>\n",
       "      <td>Leaving Nevada now for Iowa. Things are looking good - great new polls!</td>\n",
       "      <td>2016-01-22 22:56:54</td>\n",
       "    </tr>\n",
       "    <tr>\n",
       "      <th>690672420433178624</th>\n",
       "      <td>Twitter for Android</td>\n",
       "      <td>1764</td>\n",
       "      <td>Wow! New National Zogby Poll just out:.TRUMP 45. CRUZ 13. RUBIO 8. Big numbers.</td>\n",
       "      <td>2016-01-22 23:08:31</td>\n",
       "    </tr>\n",
       "    <tr>\n",
       "      <th>690680515800596480</th>\n",
       "      <td>Twitter for iPhone</td>\n",
       "      <td>2196</td>\n",
       "      <td>Just received the new Fox poll.Thank you, America! #Trump2016</td>\n",
       "      <td>2016-01-22 23:40:41</td>\n",
       "    </tr>\n",
       "    <tr>\n",
       "      <th>690682449387397120</th>\n",
       "      <td>Twitter for iPhone</td>\n",
       "      <td>1090</td>\n",
       "      <td>The tax scam Washington Post does among the most inaccurate stories of all. Really dishonest reporting.</td>\n",
       "      <td>2016-01-22 23:48:22</td>\n",
       "    </tr>\n",
       "    <tr>\n",
       "      <th>690682782163447808</th>\n",
       "      <td>Twitter for iPhone</td>\n",
       "      <td>1883</td>\n",
       "      <td>Rush Limbaugh is great, tells it as he sees it---really honorable guy! Thanks Rush! #Trump2016</td>\n",
       "      <td>2016-01-22 23:49:42</td>\n",
       "    </tr>\n",
       "    <tr>\n",
       "      <th>690684930259423232</th>\n",
       "      <td>Twitter for iPhone</td>\n",
       "      <td>1722</td>\n",
       "      <td>Ted Cruz went down big in just released Reuters poll - what's going on? Is it Goldman Sachs/Citi loans or Canada?</td>\n",
       "      <td>2016-01-22 23:58:14</td>\n",
       "    </tr>\n",
       "    <tr>\n",
       "      <th>690701138899898368</th>\n",
       "      <td>Twitter for iPhone</td>\n",
       "      <td>5012</td>\n",
       "      <td>Just watched Jeb's ad where he desperately needed mommy to help him. Jeb --- mom can't help you with ISIS, the Chinese or with Putin.</td>\n",
       "      <td>2016-01-23 01:02:38</td>\n",
       "    </tr>\n",
       "    <tr>\n",
       "      <th>690708660377513984</th>\n",
       "      <td>Twitter for iPhone</td>\n",
       "      <td>2021</td>\n",
       "      <td>.@BrentBozell, one of the National Review lightweights, came to my office begging for money like a dog. Why doesn't he say that?</td>\n",
       "      <td>2016-01-23 01:32:32</td>\n",
       "    </tr>\n",
       "    <tr>\n",
       "      <th>690708850664669185</th>\n",
       "      <td>Twitter for iPhone</td>\n",
       "      <td>1991</td>\n",
       "      <td>The only reason irrelevant @GlennBeck doesn't like me is I refused to do his failing show - asked many times. Very few listeners - sad!</td>\n",
       "      <td>2016-01-23 01:33:17</td>\n",
       "    </tr>\n",
       "    <tr>\n",
       "      <th>690709138884661248</th>\n",
       "      <td>Twitter for iPhone</td>\n",
       "      <td>2030</td>\n",
       "      <td>Cruz says I supported TARP, which gave $25 million to Goldman Sachs, the bank which loaned him the money he didn't disclose. Puppet!</td>\n",
       "      <td>2016-01-23 01:34:26</td>\n",
       "    </tr>\n",
       "    <tr>\n",
       "      <th>690716679496679424</th>\n",
       "      <td>Twitter for iPhone</td>\n",
       "      <td>2286</td>\n",
       "      <td>Cruz did not renounce his Canadian citizenship as a US Senator- only when he started to run for #POTUS. He could be Canadian Prime Minister.</td>\n",
       "      <td>2016-01-23 02:04:23</td>\n",
       "    </tr>\n",
       "    <tr>\n",
       "      <th>690717760205275136</th>\n",
       "      <td>Twitter for iPhone</td>\n",
       "      <td>2072</td>\n",
       "      <td>Is Cruz honest? He is in bed w/ Wall St. &amp; is funded by Goldman Sachs/Citi, low interest loans. No legal disclosure &amp; never sold off assets.</td>\n",
       "      <td>2016-01-23 02:08:41</td>\n",
       "    </tr>\n",
       "    <tr>\n",
       "      <th>690732776920743937</th>\n",
       "      <td>Twitter for iPhone</td>\n",
       "      <td>2311</td>\n",
       "      <td>A wonderful article by a writer who truly gets it. I am for the people and the people are for me. #Trump2016</td>\n",
       "      <td>2016-01-23 03:08:21</td>\n",
       "    </tr>\n",
       "    <tr>\n",
       "      <th>690884779693051904</th>\n",
       "      <td>Twitter for Android</td>\n",
       "      <td>1070</td>\n",
       "      <td>@TheSouthwasRite: @NRO cancelling my subscription- you people are idiots. @realDonaldTrump WILL be our next President. #Trump2016 #RNC</td>\n",
       "      <td>2016-01-23 13:12:22</td>\n",
       "    </tr>\n",
       "  </tbody>\n",
       "</table>\n",
       "</div>"
      ],
      "text/plain": [
       "                                 source  retweet_count  \\\n",
       "id                                                       \n",
       "690171032150237184  Twitter for Android           1059   \n",
       "690171403388104704  Twitter for Android           1339   \n",
       "690173226341691392  Twitter for Android           2006   \n",
       "690176882055114758  Twitter for Android           2266   \n",
       "690180284189310976  Twitter for Android           2886   \n",
       "690271688127213568   Twitter for iPhone           1429   \n",
       "690272687168458754  Twitter for Android           1053   \n",
       "690313350278819840   Twitter for iPhone           2329   \n",
       "690315202261155840   Twitter for iPhone           1463   \n",
       "690315366564626433   Twitter for iPhone           1761   \n",
       "690315667636023296   Twitter for iPhone           2217   \n",
       "690336644281581568   Twitter for iPhone           1576   \n",
       "690337376061788161   Twitter for iPhone           2422   \n",
       "690382564494839809   Twitter for iPhone           2187   \n",
       "690382619213742082   Twitter for iPhone           1817   \n",
       "690382722162913280   Twitter for iPhone           2236   \n",
       "690404308010057728   Twitter for iPhone           9144   \n",
       "690528062190944256  Twitter for Android           1595   \n",
       "690528407117889538  Twitter for Android            909   \n",
       "690528526181601281  Twitter for Android            676   \n",
       "690529122326413314  Twitter for Android            773   \n",
       "690529690205818880  Twitter for Android            753   \n",
       "690530164711624705  Twitter for Android            637   \n",
       "690532959363866625  Twitter for Android           1937   \n",
       "690534215478173697  Twitter for Android            875   \n",
       "690534576066719744  Twitter for Android            799   \n",
       "690537121916923904  Twitter for Android           1738   \n",
       "690540484154896384  Twitter for Android           2116   \n",
       "690560125916975104  Twitter for Android           1661   \n",
       "690560942430523392  Twitter for Android           1110   \n",
       "690562515500032000  Twitter for Android           4318   \n",
       "690585875365756928   Twitter for iPhone           2520   \n",
       "690636948864512000  Twitter for Android           1850   \n",
       "690641744287760384   Twitter for iPhone           2760   \n",
       "690649956634353666   Twitter for iPhone           2522   \n",
       "690656497022337024   Twitter for iPhone           2314   \n",
       "690669496621633537  Twitter for Android           1207   \n",
       "690672420433178624  Twitter for Android           1764   \n",
       "690680515800596480   Twitter for iPhone           2196   \n",
       "690682449387397120   Twitter for iPhone           1090   \n",
       "690682782163447808   Twitter for iPhone           1883   \n",
       "690684930259423232   Twitter for iPhone           1722   \n",
       "690701138899898368   Twitter for iPhone           5012   \n",
       "690708660377513984   Twitter for iPhone           2021   \n",
       "690708850664669185   Twitter for iPhone           1991   \n",
       "690709138884661248   Twitter for iPhone           2030   \n",
       "690716679496679424   Twitter for iPhone           2286   \n",
       "690717760205275136   Twitter for iPhone           2072   \n",
       "690732776920743937   Twitter for iPhone           2311   \n",
       "690884779693051904  Twitter for Android           1070   \n",
       "\n",
       "                                                                                                                                                            text  \\\n",
       "id                                                                                                                                                                 \n",
       "690171032150237184                                                                                                    @bigop1: @realDonaldTrump  @SarahPalinUSA    \n",
       "690171403388104704               @AmericanAsPie:  @glennbeck @SarahPalinUSA Remember when Glenn gave out gifts to ILLEGAL ALIENS at crossing the border? Me too!   \n",
       "690173226341691392                   So sad that @CNN and many others refused to show the massive crowd at the arena yesterday in Oklahoma. Dishonest reporting!   \n",
       "690176882055114758    Sad sack @JebBush has just done another ad on me, with special interest money, saying I won't beat Hillary - I WILL. But he can't beat me.   \n",
       "690180284189310976  Low energy candidate @JebBush has wasted $80 million on his failed presidential campaign. Millions spent on me. He should go home and relax!   \n",
       "690271688127213568                                               New Day on CNN treats me very badly. @AlisynCamerota is a disaster. Not going to watch anymore.   \n",
       "690272687168458754                                                                 Happy birthday to my friend, the great @jacknicklaus - a totally special guy!   \n",
       "690313350278819840                                                                                                                  Thank you, Iowa! #Trump2016    \n",
       "690315202261155840                                                                                                                        Thank you! #Trump2016    \n",
       "690315366564626433                                                                                                          Thank you, New Hampshire!#Trump2016    \n",
       "690315667636023296                                                                                                            #Trump2016 #MakeAmericaGreatAgain    \n",
       "690336644281581568  Why does @Greta have a fired Bushy like dummy, John Sununu on- spewing false info? I will beat Hillary by a lot, she wants no part of Trump.   \n",
       "690337376061788161                                                                            Thank you, Iowa! #FITN #IACaucus#MakeAmericaGreatAgain #Trump2016    \n",
       "690382564494839809  National Review is a failing publication that has lost it's way. It's circulation is way down w its influence being at an all time low. Sad!   \n",
       "690382619213742082                                         Very few people read the National Review because it only knows how to criticize, but not how to lead.   \n",
       "690382722162913280                            The late, great, William F. Buckley would be ashamed of what had happened to his prize, the dying National Review!   \n",
       "690404308010057728                                                                                      RT @williebosshog: Make America Great Again! #Trump2016    \n",
       "690528062190944256    Ted Cruz complains about my views on eminent domain, but without it we wouldn't have roads, highways, airports, schools or even pipelines.   \n",
       "690528407117889538           @realOllieTaylor:  Isn't it time we had a president? Let goofy Glen keep Canada Cruz who can't win. The American people have Trump!   \n",
       "690528526181601281                                                                                  @BornToBeGOP: @realDonaldTrump No sleep for the #TrumpTrain!   \n",
       "690529122326413314                                                                                                               @NeilTurner_: @realDonaldTrump    \n",
       "690529690205818880                                #TedCruz eligibility to be President not settled law, says Cruz' Constitutional Law Professor, #LaurenceTribe    \n",
       "690530164711624705                                                                 @TruBluMajority: #laurencetribe calls Cruz constitutional hypocrite on @WBUR    \n",
       "690532959363866625    Highly respected Constitutional law professor Mary Brigid McManamon has just stated, Ted Cruz is not eligible to be President. Big problem   \n",
       "690534215478173697                            @D: #MaryBrigidMcManamon, Washington Post: Constitutionally speaking, #Cruz simply isn’t eligible to be president    \n",
       "690534576066719744                             @CyberCiety: #MaryBrigidMcManamon clarified how #CommonLaw is used to interpret meaning of #NaturalBorn #TedCruz    \n",
       "690537121916923904                                                        @MiamiNewTimes: Poll: Trump has more support in Florida than Rubio and Bush combined.    \n",
       "690540484154896384  The failing @NRO National Review Magazine has just been informed by the Republican National Committee that they cannot participate in debate   \n",
       "690560125916975104      After spending $89 million, @JebBush is at the bottom of the barrel in polls. He is ashamed to use the name Bush in ads. Low energy guy!   \n",
       "690560942430523392      @Lisa_Milicaj: Truth be told, I  never heard of The National Review until they tried to declare war on you. No worries, you got my vote!   \n",
       "690562515500032000                                   @WhiteGenocideTM: @realDonaldTrump Poor Jeb. I could've sworn I saw him outside Trump Tower the other day!    \n",
       "690585875365756928                          Wow! This might be my highest # yet! Thank you to my opposition- you are totally ineffective & have been for years!    \n",
       "690636948864512000    The dying @NRO National Review has totally given up the fight against Barrack Obama. They have been losing for years. I will beat Hillary!   \n",
       "690641744287760384                                                                                New Reuters poll! Thank you!#MakeAmericaGreatAgain #Trump2016    \n",
       "690649956634353666                                             National Black Republican Association Endorses Donald J. Trump #Trump2016 #MakeAmericaGreatAgain    \n",
       "690656497022337024                                                                                  New National GOP Zogby Poll#MakeAmericaGreatAgain #Trump2016   \n",
       "690669496621633537                                                                       Leaving Nevada now for Iowa. Things are looking good - great new polls!   \n",
       "690672420433178624                                                               Wow! New National Zogby Poll just out:.TRUMP 45. CRUZ 13. RUBIO 8. Big numbers.   \n",
       "690680515800596480                                                                                Just received the new Fox poll.Thank you, America! #Trump2016    \n",
       "690682449387397120                                       The tax scam Washington Post does among the most inaccurate stories of all. Really dishonest reporting.   \n",
       "690682782163447808                                                Rush Limbaugh is great, tells it as he sees it---really honorable guy! Thanks Rush! #Trump2016   \n",
       "690684930259423232                             Ted Cruz went down big in just released Reuters poll - what's going on? Is it Goldman Sachs/Citi loans or Canada?   \n",
       "690701138899898368         Just watched Jeb's ad where he desperately needed mommy to help him. Jeb --- mom can't help you with ISIS, the Chinese or with Putin.   \n",
       "690708660377513984              .@BrentBozell, one of the National Review lightweights, came to my office begging for money like a dog. Why doesn't he say that?   \n",
       "690708850664669185       The only reason irrelevant @GlennBeck doesn't like me is I refused to do his failing show - asked many times. Very few listeners - sad!   \n",
       "690709138884661248          Cruz says I supported TARP, which gave $25 million to Goldman Sachs, the bank which loaned him the money he didn't disclose. Puppet!   \n",
       "690716679496679424  Cruz did not renounce his Canadian citizenship as a US Senator- only when he started to run for #POTUS. He could be Canadian Prime Minister.   \n",
       "690717760205275136  Is Cruz honest? He is in bed w/ Wall St. & is funded by Goldman Sachs/Citi, low interest loans. No legal disclosure & never sold off assets.   \n",
       "690732776920743937                                 A wonderful article by a writer who truly gets it. I am for the people and the people are for me. #Trump2016    \n",
       "690884779693051904        @TheSouthwasRite: @NRO cancelling my subscription- you people are idiots. @realDonaldTrump WILL be our next President. #Trump2016 #RNC   \n",
       "\n",
       "                                  time  \n",
       "id                                      \n",
       "690171032150237184 2016-01-21 13:56:11  \n",
       "690171403388104704 2016-01-21 13:57:39  \n",
       "690173226341691392 2016-01-21 14:04:54  \n",
       "690176882055114758 2016-01-21 14:19:26  \n",
       "690180284189310976 2016-01-21 14:32:57  \n",
       "690271688127213568 2016-01-21 20:36:09  \n",
       "690272687168458754 2016-01-21 20:40:07  \n",
       "690313350278819840 2016-01-21 23:21:42  \n",
       "690315202261155840 2016-01-21 23:29:04  \n",
       "690315366564626433 2016-01-21 23:29:43  \n",
       "690315667636023296 2016-01-21 23:30:55  \n",
       "690336644281581568 2016-01-22 00:54:16  \n",
       "690337376061788161 2016-01-22 00:57:10  \n",
       "690382564494839809 2016-01-22 03:56:44  \n",
       "690382619213742082 2016-01-22 03:56:57  \n",
       "690382722162913280 2016-01-22 03:57:22  \n",
       "690404308010057728 2016-01-22 05:23:08  \n",
       "690528062190944256 2016-01-22 13:34:54  \n",
       "690528407117889538 2016-01-22 13:36:16  \n",
       "690528526181601281 2016-01-22 13:36:44  \n",
       "690529122326413314 2016-01-22 13:39:06  \n",
       "690529690205818880 2016-01-22 13:41:22  \n",
       "690530164711624705 2016-01-22 13:43:15  \n",
       "690532959363866625 2016-01-22 13:54:21  \n",
       "690534215478173697 2016-01-22 13:59:21  \n",
       "690534576066719744 2016-01-22 14:00:47  \n",
       "690537121916923904 2016-01-22 14:10:54  \n",
       "690540484154896384 2016-01-22 14:24:15  \n",
       "690560125916975104 2016-01-22 15:42:18  \n",
       "690560942430523392 2016-01-22 15:45:33  \n",
       "690562515500032000 2016-01-22 15:51:48  \n",
       "690585875365756928 2016-01-22 17:24:37  \n",
       "690636948864512000 2016-01-22 20:47:34  \n",
       "690641744287760384 2016-01-22 21:06:37  \n",
       "690649956634353666 2016-01-22 21:39:15  \n",
       "690656497022337024 2016-01-22 22:05:15  \n",
       "690669496621633537 2016-01-22 22:56:54  \n",
       "690672420433178624 2016-01-22 23:08:31  \n",
       "690680515800596480 2016-01-22 23:40:41  \n",
       "690682449387397120 2016-01-22 23:48:22  \n",
       "690682782163447808 2016-01-22 23:49:42  \n",
       "690684930259423232 2016-01-22 23:58:14  \n",
       "690701138899898368 2016-01-23 01:02:38  \n",
       "690708660377513984 2016-01-23 01:32:32  \n",
       "690708850664669185 2016-01-23 01:33:17  \n",
       "690709138884661248 2016-01-23 01:34:26  \n",
       "690716679496679424 2016-01-23 02:04:23  \n",
       "690717760205275136 2016-01-23 02:08:41  \n",
       "690732776920743937 2016-01-23 03:08:21  \n",
       "690884779693051904 2016-01-23 13:12:22  "
      ]
     },
     "execution_count": 36,
     "metadata": {},
     "output_type": "execute_result"
    }
   ],
   "source": [
    "trump.head(50)"
   ]
  },
  {
   "cell_type": "code",
   "execution_count": 37,
   "metadata": {},
   "outputs": [
    {
     "data": {
      "text/plain": [
       "'Is Cruz honest? He is in bed w/ Wall St. & is funded by Goldman Sachs/Citi, low interest loans. No legal disclosure & never sold off assets.'"
      ]
     },
     "execution_count": 37,
     "metadata": {},
     "output_type": "execute_result"
    }
   ],
   "source": [
    "trump['text'].loc[690717760205275136]"
   ]
  },
  {
   "cell_type": "code",
   "execution_count": 38,
   "metadata": {
    "collapsed": true
   },
   "outputs": [],
   "source": [
    "tcopy = trump['text'].str.split(' ')"
   ]
  },
  {
   "cell_type": "markdown",
   "metadata": {},
   "source": [
    "# 3) Constructing Markov Chain"
   ]
  },
  {
   "cell_type": "markdown",
   "metadata": {},
   "source": [
    "### Getting unique words"
   ]
  },
  {
   "cell_type": "code",
   "execution_count": 39,
   "metadata": {
    "collapsed": true
   },
   "outputs": [],
   "source": [
    "for i in tcopy.index:\n",
    "    tcopy.loc[i] = [x for x in tcopy.loc[i] if x != '']"
   ]
  },
  {
   "cell_type": "code",
   "execution_count": 41,
   "metadata": {
    "collapsed": true
   },
   "outputs": [],
   "source": [
    "from collections import defaultdict\n",
    "\n",
    "unique_words = defaultdict(int)"
   ]
  },
  {
   "cell_type": "code",
   "execution_count": 42,
   "metadata": {},
   "outputs": [
    {
     "data": {
      "text/plain": [
       "defaultdict(int, {})"
      ]
     },
     "execution_count": 42,
     "metadata": {},
     "output_type": "execute_result"
    }
   ],
   "source": [
    "unique_words"
   ]
  },
  {
   "cell_type": "code",
   "execution_count": 43,
   "metadata": {
    "collapsed": true
   },
   "outputs": [],
   "source": [
    "for i in tcopy.index[:1000]:\n",
    "    for j in tcopy.loc[i]:\n",
    "        unique_words[j] += 1"
   ]
  },
  {
   "cell_type": "markdown",
   "metadata": {},
   "source": [
    "### Generating transition probabilities"
   ]
  },
  {
   "cell_type": "code",
   "execution_count": 44,
   "metadata": {
    "collapsed": true
   },
   "outputs": [],
   "source": [
    "def generate_tprobs_for_word(w):\n",
    "    trans_dict = defaultdict(int)\n",
    "    total_trans = 0\n",
    "    for i in tcopy.index[:1000]:\n",
    "        curr_tweet = tcopy.loc[i]\n",
    "        for i in range(len(curr_tweet)):\n",
    "            curr_word = curr_tweet[i]\n",
    "            if curr_word == w and i != (len(curr_tweet) - 1):\n",
    "                next_word = curr_tweet[i + 1]\n",
    "                trans_dict[next_word] += 1\n",
    "                total_trans += 1\n",
    "    for k in trans_dict:\n",
    "        trans_dict[k] /= total_trans\n",
    "    return trans_dict"
   ]
  },
  {
   "cell_type": "code",
   "execution_count": 81,
   "metadata": {
    "scrolled": false
   },
   "outputs": [
    {
     "data": {
      "text/plain": [
       "4819"
      ]
     },
     "execution_count": 81,
     "metadata": {},
     "output_type": "execute_result"
    }
   ],
   "source": [
    "len(unique_words)"
   ]
  },
  {
   "cell_type": "code",
   "execution_count": 82,
   "metadata": {
    "collapsed": true
   },
   "outputs": [],
   "source": [
    "markov_dict = defaultdict(int)\n",
    "for u in unique_words:\n",
    "    markov_dict[u] = generate_tprobs_for_word(u)"
   ]
  },
  {
   "cell_type": "code",
   "execution_count": 83,
   "metadata": {},
   "outputs": [
    {
     "data": {
      "text/plain": [
       "4819"
      ]
     },
     "execution_count": 83,
     "metadata": {},
     "output_type": "execute_result"
    }
   ],
   "source": [
    "len(markov_dict)"
   ]
  },
  {
   "cell_type": "code",
   "execution_count": 86,
   "metadata": {
    "collapsed": true
   },
   "outputs": [],
   "source": [
    "lst = []\n",
    "for key, value in markov_dict['at'].items():\n",
    "    lst.append((key, value))"
   ]
  },
  {
   "cell_type": "code",
   "execution_count": 87,
   "metadata": {},
   "outputs": [
    {
     "data": {
      "text/plain": [
       "[('crossing', 0.013333333333333334),\n",
       " ('the', 0.22666666666666666),\n",
       " ('an', 0.013333333333333334),\n",
       " ('9pm', 0.02666666666666667),\n",
       " ('various', 0.02666666666666667),\n",
       " ('around', 0.02666666666666667),\n",
       " ('7:30', 0.013333333333333334),\n",
       " ('41%', 0.013333333333333334),\n",
       " ('my', 0.02666666666666667),\n",
       " ('8:00', 0.013333333333333334),\n",
       " ('Drake', 0.013333333333333334),\n",
       " ('7:00', 0.02666666666666667),\n",
       " ('their', 0.013333333333333334),\n",
       " ('minimum.', 0.013333333333333334),\n",
       " ('8pm', 0.013333333333333334),\n",
       " ('stake.', 0.013333333333333334),\n",
       " ('Clemson', 0.013333333333333334),\n",
       " ('me.', 0.013333333333333334),\n",
       " ('9am.', 0.013333333333333334),\n",
       " ('7:02', 0.013333333333333334),\n",
       " ('this', 0.013333333333333334),\n",
       " ('Jeb', 0.013333333333333334),\n",
       " ('bottom', 0.013333333333333334),\n",
       " ('8:40.', 0.013333333333333334),\n",
       " ('least', 0.013333333333333334),\n",
       " ('all!', 0.013333333333333334),\n",
       " ('it', 0.013333333333333334),\n",
       " ('meetings', 0.013333333333333334),\n",
       " ('5pm.', 0.013333333333333334),\n",
       " ('1%,', 0.013333333333333334),\n",
       " ('10pm', 0.02666666666666667),\n",
       " ('10:10pm.', 0.013333333333333334),\n",
       " ('10pmE.', 0.013333333333333334),\n",
       " ('10:00', 0.013333333333333334),\n",
       " ('8:00.', 0.013333333333333334),\n",
       " ('12:00', 0.013333333333333334),\n",
       " ('Fort', 0.013333333333333334),\n",
       " ('11:30', 0.013333333333333334),\n",
       " ('8:30', 0.02666666666666667),\n",
       " ('8pmE', 0.013333333333333334),\n",
       " ('7pmE', 0.013333333333333334),\n",
       " ('stake', 0.013333333333333334),\n",
       " ('#KansasCaucus.', 0.013333333333333334),\n",
       " ('Trump', 0.02666666666666667),\n",
       " ('3:00', 0.013333333333333334),\n",
       " ('43%', 0.013333333333333334),\n",
       " ('Mar-a-Lago', 0.013333333333333334),\n",
       " ('7:15', 0.013333333333333334),\n",
       " ('7:40.', 0.013333333333333334),\n",
       " ('8', 0.013333333333333334),\n",
       " ('math.', 0.013333333333333334)]"
      ]
     },
     "execution_count": 87,
     "metadata": {},
     "output_type": "execute_result"
    }
   ],
   "source": [
    "lst"
   ]
  },
  {
   "cell_type": "markdown",
   "metadata": {},
   "source": [
    "# 4) Generating Tweets"
   ]
  },
  {
   "cell_type": "markdown",
   "metadata": {},
   "source": [
    "### Function for random walk on Tweet Markov chain"
   ]
  },
  {
   "cell_type": "code",
   "execution_count": 157,
   "metadata": {
    "collapsed": true
   },
   "outputs": [],
   "source": [
    "import random\n",
    "\n",
    "def gen_tweet_given_start(start, length):\n",
    "    assert start in unique_words\n",
    "    ct = 0\n",
    "    prob = 1\n",
    "    tweet = start + ' '\n",
    "    state = [(key, value) for key, value in markov_dict[start].items()]\n",
    "    while ct != length:\n",
    "        br = False\n",
    "        success = 0\n",
    "        fail_count = 0\n",
    "        while not success:\n",
    "            s_ind = 0\n",
    "            ran = random.uniform(0, 1)\n",
    "            ran -= state[s_ind][1]\n",
    "            while ran > 0:\n",
    "                s_ind += 1\n",
    "                ran -= state[s_ind][1]\n",
    "            next_word = state[s_ind][0]\n",
    "            if next_word in markov_dict and len(markov_dict[next_word]) >= 1:\n",
    "                success = 1\n",
    "                prob *= state[s_ind][1]\n",
    "                tweet += (next_word + ' ')\n",
    "                ct += 1\n",
    "                state = [(key, value) for key, value in markov_dict[next_word].items()]\n",
    "            fail_count += 1\n",
    "            if fail_count > 100:\n",
    "                br = True\n",
    "                break\n",
    "        if br:\n",
    "            break\n",
    "    return tweet, prob"
   ]
  },
  {
   "cell_type": "markdown",
   "metadata": {},
   "source": [
    "# 5) Results"
   ]
  },
  {
   "cell_type": "markdown",
   "metadata": {},
   "source": [
    "## Selected tweets"
   ]
  },
  {
   "cell_type": "code",
   "execution_count": 158,
   "metadata": {
    "collapsed": true
   },
   "outputs": [],
   "source": [
    "best = ['Ted Cruz lies and he runs ', \n",
    "        'Ted Cruz campaign is very sleazy ', \n",
    "        'Obama is working with Trump. Thank you people ',\n",
    "        'Jeb Bush has ties to Trump and Cruz ',\n",
    "        \"Bush just on @FoxNews - I wasn't enough \",\n",
    "        \"Marco 'Amnesty' Rubio is thinking of little Mort \",\n",
    "        'Marco Rubio was as if he is weak ',\n",
    "        'Marco Rubio is jealous of Cruz & strong ',\n",
    "        'Trump has a dinner in bed ',\n",
    "        'Democrats numbers have done the dying ',\n",
    "        'I did a WALL and ObamaCare, ',\n",
    "        'I could be just another politician. ',\n",
    "        'Trump won all the evangelical vote ',\n",
    "        'ISIS is a person in Salem, ',\n",
    "        'ISIS is better than a rock! ',\n",
    "        \"I'm going to church I WILL. \",\n",
    "        'many believe @realDonaldTrump Wow! Thank you, ',\n",
    "        'so easy to be president - ']"
   ]
  },
  {
   "cell_type": "markdown",
   "metadata": {},
   "source": [
    "## Tests with various start words"
   ]
  },
  {
   "cell_type": "code",
   "execution_count": 155,
   "metadata": {},
   "outputs": [
    {
     "data": {
      "text/plain": [
       "[('Ted Cruz to me. I must ', 1.8470064073831216e-08),\n",
       " ('Ted may be happy to watching ', 2.9675379832991706e-08),\n",
       " ('Ted Cruz & not on my ', 8.269718196200094e-08),\n",
       " ('Ted Cruz lies and he runs ', 8.997584818509143e-08),\n",
       " ('Ted Cruz, and demanding a man ', 9.185935084099072e-08),\n",
       " ('Ted Cruz to donate and deceptive ', 9.383984166543278e-08),\n",
       " (\"Ted can't beat him that @CNN \", 1.3882317282675216e-07),\n",
       " ('Ted Cruz, Rubio and special guy! ', 2.2755834747734885e-07),\n",
       " ('Ted Cruz be great people we ', 2.4715402469229096e-07),\n",
       " ('Ted Cruz campaign is very sleazy ', 3.6808936495531105e-07)]"
      ]
     },
     "execution_count": 155,
     "metadata": {},
     "output_type": "execute_result"
    }
   ],
   "source": [
    "tweets = []\n",
    "for _ in range(100):\n",
    "    tweets.append(gen_tweet_given_start(\"Ted\", 5))\n",
    "curr = sorted(tweets, key = lambda x: x[1])[0:10]\n",
    "curr"
   ]
  },
  {
   "cell_type": "code",
   "execution_count": 166,
   "metadata": {},
   "outputs": [
    {
     "data": {
      "text/plain": [
       "[('Obama is such a big & the evening. ', 3.683733992282364e-11),\n",
       " ('Obama would beat you in lie to do ', 9.086065127868122e-11),\n",
       " ('Obama is underway @realDonaldTrump Trump will not careful, ',\n",
       "  2.9046102973826e-10),\n",
       " ('Obama would not Trump will be a dinner ', 3.146953472772636e-10),\n",
       " ('Obama would the people I will do on ', 1.153588398491367e-09),\n",
       " ('Obama is repulsive that I stated on 3/8/2016. ', 1.2224064242014723e-09),\n",
       " ('Obama is working with Trump. Thank you people ', 2.7038665951790717e-09),\n",
       " ('Obama is a stacked RNC and the chaos ', 3.2710778028747256e-09),\n",
       " ('Obama so many more for the primary vote ', 3.5581226907221935e-09),\n",
       " ('Obama so big, Cruz, and and get out ', 5.184663615706427e-09)]"
      ]
     },
     "execution_count": 166,
     "metadata": {},
     "output_type": "execute_result"
    }
   ],
   "source": [
    "tweets = []\n",
    "for _ in range(100):\n",
    "    tweets.append(gen_tweet_given_start(\"Obama\", 7))\n",
    "curr = sorted(tweets, key = lambda x: x[1])[0:10]\n",
    "curr"
   ]
  },
  {
   "cell_type": "code",
   "execution_count": 168,
   "metadata": {},
   "outputs": [
    {
     "data": {
      "text/plain": [
       "[(\"Jeb spent so out the media wasn't enough \", 1.7900228169339606e-10),\n",
       " ('Jeb and a weak on this morning. Glad ', 4.3783486184892456e-10),\n",
       " ('Jeb and other Republican Party see the highly ', 6.186185460489041e-10),\n",
       " ('Jeb Bush has done the winner of himself. ', 8.813934219230215e-10),\n",
       " ('Jeb Bush is all the new voters that ', 1.6448768147495032e-09),\n",
       " ('Jeb and vote total #Mediafraud. When you Kansas! ', 4.3396285286658715e-09),\n",
       " ('Jeb Bush has ties to Trump and Cruz ', 6.616259174406837e-09),\n",
       " ('Jeb Bush in NH GOP candidates are way ', 7.301429590708142e-09),\n",
       " ('Jeb --- Just in, big & many voters ', 7.737986574655196e-09),\n",
       " ('Jeb Bush was told to my forum with ', 7.902124613268439e-09)]"
      ]
     },
     "execution_count": 168,
     "metadata": {},
     "output_type": "execute_result"
    }
   ],
   "source": [
    "tweets = []\n",
    "for _ in range(100):\n",
    "    tweets.append(gen_tweet_given_start(\"Jeb\", 7))\n",
    "curr = sorted(tweets, key = lambda x: x[1])[0:10]\n",
    "curr"
   ]
  },
  {
   "cell_type": "code",
   "execution_count": 171,
   "metadata": {},
   "outputs": [
    {
     "data": {
      "text/plain": [
       "[('Bush and a major speeches and is by ', 7.58411795438427e-11),\n",
       " ('Bush is afraid of Iowa love to thank ', 2.2874980198094679e-10),\n",
       " (\"Bush just on @FoxNews - I wasn't enough \", 2.9305667200989573e-10),\n",
       " ('Bush is at Trump winning debate tonight because ', 4.775252445212783e-10),\n",
       " ('Bush in America Needs: The people are spending ', 8.272555693905776e-10),\n",
       " ('Bush and Jeb spent very successful event is ', 1.0279785159398183e-09),\n",
       " ('Bush was great experience in his votes than ', 1.0519599368548003e-09),\n",
       " ('Bush is because of @StJude in Salt Lake ', 1.2214780985788866e-09),\n",
       " ('Bush spent against Trump has cancelled the special ',\n",
       "  1.2332162961739611e-09),\n",
       " ('Bush is going to be president in Manchester, ', 1.2982888379067002e-09)]"
      ]
     },
     "execution_count": 171,
     "metadata": {},
     "output_type": "execute_result"
    }
   ],
   "source": [
    "tweets = []\n",
    "for _ in range(100):\n",
    "    tweets.append(gen_tweet_given_start(\"Bush\", 7))\n",
    "curr = sorted(tweets, key = lambda x: x[1])[0:10]\n",
    "curr"
   ]
  },
  {
   "cell_type": "code",
   "execution_count": 177,
   "metadata": {},
   "outputs": [
    {
     "data": {
      "text/plain": [
       "[('Marco Rubio is jealous of Cruz & strong ', 1.9196447098869053e-10),\n",
       " ('Marco Rubio & the century the warm embrace ', 1.5202635131310505e-09),\n",
       " ('Marco Rubio was as if he is weak ', 1.7433880865613842e-09),\n",
       " ('Marco Rubio was so much to the advertisers ', 2.310660416910899e-09),\n",
       " ('Marco made so happy to help you for ', 2.8390806261989783e-09),\n",
       " ('Marco Rubio gave up a disaster for Rubio, ', 4.14364382714961e-09),\n",
       " ('Marco Rubio to the people of time we ', 4.869131977967355e-09),\n",
       " ('Marco Rubio 15.0 Cruz talks about to contribute ', 6.707848775107442e-09),\n",
       " (\"Marco 'Amnesty' Rubio is thinking of little Mort \", 6.9312072825363165e-09),\n",
       " ('Marco Rubio, who will change in Canada Cruz ', 7.33268571053138e-09)]"
      ]
     },
     "execution_count": 177,
     "metadata": {},
     "output_type": "execute_result"
    }
   ],
   "source": [
    "tweets = []\n",
    "for _ in range(100):\n",
    "    tweets.append(gen_tweet_given_start(\"Marco\", 7))\n",
    "curr = sorted(tweets, key = lambda x: x[1])[0:10]\n",
    "curr"
   ]
  },
  {
   "cell_type": "code",
   "execution_count": 183,
   "metadata": {},
   "outputs": [
    {
     "data": {
      "text/plain": [
       "[('Trump line and to Trump like ', 2.0360312376056597e-09),\n",
       " ('Trump is to compete in American ', 3.797385567304884e-09),\n",
       " ('Trump won that while the remaining ', 1.7602994128477303e-08),\n",
       " ('Trump had to get to do ', 2.520391648699075e-08),\n",
       " ('Trump is looking good for himself—a ', 3.2589910908494975e-08),\n",
       " ('Trump campaign & invest in Madison, ', 3.8283549405686184e-08),\n",
       " ('Trump has a dinner in bed ', 5.056043716576391e-08),\n",
       " ('Trump about @FoxNews Listening to Tampa ', 6.311696836577547e-08),\n",
       " ('Trump about Hillary would have killed ', 6.777381978670222e-08),\n",
       " ('Trump is Clinton and running in ', 7.709441290181607e-08)]"
      ]
     },
     "execution_count": 183,
     "metadata": {},
     "output_type": "execute_result"
    }
   ],
   "source": [
    "tweets = []\n",
    "for _ in range(100):\n",
    "    tweets.append(gen_tweet_given_start(\"Trump\", 5))\n",
    "curr = sorted(tweets, key = lambda x: x[1])[0:10]\n",
    "curr"
   ]
  },
  {
   "cell_type": "code",
   "execution_count": 188,
   "metadata": {},
   "outputs": [
    {
     "data": {
      "text/plain": [
       "[('Democrats vote. The great & replace. ', 3.538870958609365e-07),\n",
       " ('Democrats would be just got ZERO, ', 5.269167122324167e-07),\n",
       " ('Democrats would never run, a small ', 7.273192757063725e-07),\n",
       " ('Democrats numbers have done the dying ', 1.1156854213385992e-06),\n",
       " ('Democrats working so out from his ', 1.17039417705489e-06),\n",
       " ('Democrats would have the stage. Not ', 1.5213892109162715e-06),\n",
       " ('Democrats working with very good chance ', 1.6546648310918137e-06),\n",
       " ('Democrats numbers in Dayton & dry. ', 2.067311667907054e-06),\n",
       " ('Democrats working hard in the sports ', 2.119245358767894e-06),\n",
       " ('Democrats numbers are for Trump. DT ', 2.7056277056277056e-06)]"
      ]
     },
     "execution_count": 188,
     "metadata": {},
     "output_type": "execute_result"
    }
   ],
   "source": [
    "tweets = []\n",
    "for _ in range(100):\n",
    "    tweets.append(gen_tweet_given_start(\"Democrats\", 5))\n",
    "curr = sorted(tweets, key = lambda x: x[1])[0:10]\n",
    "curr"
   ]
  },
  {
   "cell_type": "code",
   "execution_count": 193,
   "metadata": {},
   "outputs": [
    {
     "data": {
      "text/plain": [
       "[('I did great debate Cruz - ', 2.286321532713374e-09),\n",
       " ('I hope you win in Tampa! ', 7.791038124665959e-09),\n",
       " ('I do w/ a very good ', 1.1228788817922944e-08),\n",
       " ('I did a WALL and ObamaCare, ', 1.7205402221010963e-08),\n",
       " ('I must talk and a WALL ', 4.014593851569224e-08),\n",
       " ('I was able to him the ', 4.6780811847574754e-08),\n",
       " ('I would end this great President, ', 5.5581493585895636e-08),\n",
       " ('I can join the race, someone ', 8.772911005397534e-08),\n",
       " ('I would say in Iowa, he ', 8.98382193346222e-08),\n",
       " ('I did he was an even ', 9.301633366819214e-08)]"
      ]
     },
     "execution_count": 193,
     "metadata": {},
     "output_type": "execute_result"
    }
   ],
   "source": [
    "tweets = []\n",
    "for _ in range(100):\n",
    "    tweets.append(gen_tweet_given_start(\"I\", 5))\n",
    "curr = sorted(tweets, key = lambda x: x[1])[0:10]\n",
    "curr"
   ]
  },
  {
   "cell_type": "code",
   "execution_count": 245,
   "metadata": {},
   "outputs": [
    {
     "data": {
      "text/plain": [
       "[('Trump up to speak the warm ', 3.0274616199608057e-09),\n",
       " ('Trump held in Canada to unite ', 2.0433550909783423e-08),\n",
       " ('Trump winning the leaders in defending ', 2.3076227239917077e-08),\n",
       " ('Trump was amazing day for lightweight ', 2.7508197442837967e-08),\n",
       " ('Trump way that is a leader ', 3.501147928373572e-08),\n",
       " ('Trump is not as bad word. ', 3.623897429207164e-08),\n",
       " ('Trump has his family in Ohio. ', 3.6879377697380734e-08),\n",
       " ('Trump shows that there - TRUMP ', 5.107147964290821e-08),\n",
       " ('Trump for Kasich is incompetent Mitt ', 7.010938817289676e-08),\n",
       " ('Trump won all the evangelical vote ', 8.233400435546883e-08)]"
      ]
     },
     "execution_count": 245,
     "metadata": {},
     "output_type": "execute_result"
    }
   ],
   "source": [
    "tweets = []\n",
    "for _ in range(100):\n",
    "    tweets.append(gen_tweet_given_start(\"Trump\", 5))\n",
    "curr = sorted(tweets, key = lambda x: x[1])[0:10]\n",
    "curr"
   ]
  },
  {
   "cell_type": "code",
   "execution_count": 250,
   "metadata": {},
   "outputs": [
    {
     "data": {
      "text/plain": [
       "[('ISIS is that Jeb is way ', 1.042342524454919e-07),\n",
       " ('ISIS is amazing. We the founder ', 1.3101139222662245e-07),\n",
       " ('ISIS is he spent a choker, ', 2.099041157999026e-07),\n",
       " ('ISIS is about Trump National Zogby ', 2.142231305282957e-07),\n",
       " ('ISIS is lying is not caring ', 3.968648733313155e-07),\n",
       " ('ISIS is I put on the ', 4.312649864582795e-07),\n",
       " ('ISIS is losing jobs in many ', 5.684453701261493e-07),\n",
       " ('ISIS is a person in Salem, ', 5.776138438378616e-07),\n",
       " ('ISIS is so the only when ', 5.927174909329041e-07),\n",
       " ('ISIS is by Cruz apart for ', 6.79689517828256e-07)]"
      ]
     },
     "execution_count": 250,
     "metadata": {},
     "output_type": "execute_result"
    }
   ],
   "source": [
    "tweets = []\n",
    "for _ in range(100):\n",
    "    tweets.append(gen_tweet_given_start(\"ISIS\", 5))\n",
    "curr = sorted(tweets, key = lambda x: x[1])[0:10]\n",
    "curr"
   ]
  },
  {
   "cell_type": "code",
   "execution_count": 280,
   "metadata": {},
   "outputs": [
    {
     "data": {
      "text/plain": [
       "[(\"I'm not watch her a morning \", 1.0887107661301211e-07),\n",
       " (\"I'm a dog-over and didn't meet \", 1.659092357026057e-07),\n",
       " (\"I'm going very incompetent and never \", 3.789716226048993e-07),\n",
       " (\"I'm fed up and that when \", 4.521482467499584e-07),\n",
       " (\"I'm like a @FoxNews only wish \", 4.850836769342712e-07),\n",
       " (\"I'm going to church I WILL. \", 5.951028445915971e-07),\n",
       " (\"I'm not controlled by his prize, \", 6.105319198298325e-07),\n",
       " (\"I'm going to support & his \", 6.925765863781519e-07),\n",
       " (\"I'm like a fool, is this \", 8.156274213939073e-07),\n",
       " (\"I'm like Trump is at the \", 8.915109800065552e-07)]"
      ]
     },
     "execution_count": 280,
     "metadata": {},
     "output_type": "execute_result"
    }
   ],
   "source": [
    "tweets = []\n",
    "for _ in range(100):\n",
    "    tweets.append(gen_tweet_given_start(\"I'm\", 5))\n",
    "curr = sorted(tweets, key = lambda x: x[1])[0:10]\n",
    "curr"
   ]
  },
  {
   "cell_type": "code",
   "execution_count": 292,
   "metadata": {},
   "outputs": [
    {
     "data": {
      "text/plain": [
       "[('many more VOTE and spirited crowd! ', 5.874501842243778e-07),\n",
       " ('many others in Louisiana. Big and ', 6.588136084538962e-07),\n",
       " ('many people in it. Lindsey got ', 6.815313190902374e-07),\n",
       " ('many will repeal and I am ', 6.987170045057804e-07),\n",
       " ('many of #CommonCore and Twitter poll- ', 7.08159126188291e-07),\n",
       " ('many people saying the record, most ', 7.657389993935348e-07),\n",
       " ('many voters by @CNN he was ', 8.514572081934511e-07),\n",
       " ('many years. He is that shows ', 1.075019135340609e-06),\n",
       " ('many believe @realDonaldTrump Wow! Thank you, ', 1.2365884706310241e-06),\n",
       " ('many of New National Poll, where ', 1.5304876975572648e-06)]"
      ]
     },
     "execution_count": 292,
     "metadata": {},
     "output_type": "execute_result"
    }
   ],
   "source": [
    "tweets = []\n",
    "for _ in range(100):\n",
    "    tweets.append(gen_tweet_given_start(\"many\", 5))\n",
    "curr = sorted(tweets, key = lambda x: x[1])[20:30]\n",
    "curr"
   ]
  },
  {
   "cell_type": "code",
   "execution_count": 294,
   "metadata": {},
   "outputs": [
    {
     "data": {
      "text/plain": [
       "[('so happy & his fraudulent T.V. ', 1.1498852414529027e-06),\n",
       " ('so than a choker, always negative? ', 1.4694818019373646e-06),\n",
       " ('so good night. The New Hampshire. ', 1.51846452866861e-06),\n",
       " ('so out yesterday by Elton John ', 1.5526600171413663e-06),\n",
       " ('so easy to be president - ', 1.6079210909508772e-06),\n",
       " ('so much Jeb --- and I ', 1.6593014423892609e-06),\n",
       " ('so haltingly said that @oreillyfactor did ', 1.7353880327641257e-06),\n",
       " ('so impressive and then they like ', 1.8152422259226268e-06),\n",
       " ('so much more, he is 7,533,692-a ', 1.847603219818131e-06),\n",
       " ('so they say something much forward ', 2.0074919599947004e-06)]"
      ]
     },
     "execution_count": 294,
     "metadata": {},
     "output_type": "execute_result"
    }
   ],
   "source": [
    "tweets = []\n",
    "for _ in range(100):\n",
    "    tweets.append(gen_tweet_given_start(\"so\", 5))\n",
    "curr = sorted(tweets, key = lambda x: x[1])[20:30]\n",
    "curr"
   ]
  },
  {
   "cell_type": "code",
   "execution_count": 307,
   "metadata": {},
   "outputs": [
    {
     "data": {
      "text/plain": [
       "[('no show that has never held ', 1.8590479164952853e-07),\n",
       " ('no money, no one will end ', 2.810033054418819e-07),\n",
       " ('no guts and payed for Cruz ', 2.980235080943185e-07),\n",
       " ('no buyers for lightweight from D.C. ', 3.14509914925068e-07),\n",
       " ('no chance in Cincinnati is why ', 3.8820659423249227e-07),\n",
       " ('no other politician and #VoteTrump tomorrow. ', 4.0597629585603754e-07),\n",
       " ('no clue & is a possible ', 4.5017283035302915e-07),\n",
       " ('no and said no buyer! Liabilities ', 4.79745159371342e-07),\n",
       " ('no chance in 4 or keeping ', 9.139030239223256e-07),\n",
       " ('no show first day to authorities ', 1.1083955420331298e-06)]"
      ]
     },
     "execution_count": 307,
     "metadata": {},
     "output_type": "execute_result"
    }
   ],
   "source": [
    "tweets = []\n",
    "for _ in range(100):\n",
    "    tweets.append(gen_tweet_given_start(\"no\", 5))\n",
    "curr = sorted(tweets, key = lambda x: x[1])[10:20]\n",
    "curr"
   ]
  }
 ],
 "metadata": {
  "kernelspec": {
   "display_name": "Python 3",
   "language": "python",
   "name": "python3"
  },
  "language_info": {
   "codemirror_mode": {
    "name": "ipython",
    "version": 3
   },
   "file_extension": ".py",
   "mimetype": "text/x-python",
   "name": "python",
   "nbconvert_exporter": "python",
   "pygments_lexer": "ipython3",
   "version": "3.6.7"
  }
 },
 "nbformat": 4,
 "nbformat_minor": 2
}
